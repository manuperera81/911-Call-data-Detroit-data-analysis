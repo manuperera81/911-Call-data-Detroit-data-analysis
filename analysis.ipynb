{
 "cells": [
  {
   "cell_type": "markdown",
   "metadata": {},
   "source": [
    "## Analysis\n"
   ]
  },
  {
   "cell_type": "code",
   "execution_count": 1,
   "metadata": {},
   "outputs": [],
   "source": [
    "import numpy as np \n",
    "import pandas as pd \n",
    "import matplotlib.pyplot as plt\n",
    "import seaborn as sns\n",
    "%matplotlib inline\n",
    "from matplotlib.ticker import MultipleLocator\n",
    "import warnings\n",
    "import datetime as dt\n",
    "import plotly.express as px\n",
    "import plotly.graph_objs as go\n",
    "import os\n",
    "import nbformat\n",
    "# ve\n",
    "import plotly.graph_objects as go\n",
    "import plotly.io as pio\n",
    "#show all the columns on output\n",
    "pd.set_option('display.max.columns',999)"
   ]
  },
  {
   "cell_type": "code",
   "execution_count": 2,
   "metadata": {},
   "outputs": [],
   "source": [
    "df_2022 = pd.read_csv('./cleaned_data/Police_Serviced_911_Calls_cleaned_2022.csv')\n",
    "df_2023 = pd.read_csv('./cleaned_data/Police_Serviced_911_Calls_cleaned_2023.csv')\n",
    "df_2024 = pd.read_csv('./cleaned_data/Police_Serviced_911_Calls_cleaned_2024.csv')\n"
   ]
  },
  {
   "cell_type": "code",
   "execution_count": 3,
   "metadata": {},
   "outputs": [],
   "source": [
    "df_2022.drop('Unnamed: 0', axis=1, inplace=True)\n",
    "df_2023.drop('Unnamed: 0', axis=1, inplace=True)\n",
    "df_2024.drop('Unnamed: 0', axis=1, inplace=True)"
   ]
  },
  {
   "cell_type": "code",
   "execution_count": 4,
   "metadata": {},
   "outputs": [],
   "source": [
    "combined_df = pd.concat([df_2022, df_2023, df_2024], ignore_index=True)\n"
   ]
  },
  {
   "cell_type": "code",
   "execution_count": 5,
   "metadata": {},
   "outputs": [
    {
     "data": {
      "text/html": [
       "<div>\n",
       "<style scoped>\n",
       "    .dataframe tbody tr th:only-of-type {\n",
       "        vertical-align: middle;\n",
       "    }\n",
       "\n",
       "    .dataframe tbody tr th {\n",
       "        vertical-align: top;\n",
       "    }\n",
       "\n",
       "    .dataframe thead th {\n",
       "        text-align: right;\n",
       "    }\n",
       "</style>\n",
       "<table border=\"1\" class=\"dataframe\">\n",
       "  <thead>\n",
       "    <tr style=\"text-align: right;\">\n",
       "      <th></th>\n",
       "      <th>incident_id</th>\n",
       "      <th>incident_location</th>\n",
       "      <th>call_source</th>\n",
       "      <th>call_description</th>\n",
       "      <th>category</th>\n",
       "      <th>priority</th>\n",
       "      <th>call_group</th>\n",
       "      <th>call_code</th>\n",
       "      <th>called_at</th>\n",
       "      <th>intake_time</th>\n",
       "      <th>dispatch_time</th>\n",
       "      <th>travel_time</th>\n",
       "      <th>on_scene_time</th>\n",
       "      <th>total_response_time</th>\n",
       "      <th>total_time</th>\n",
       "      <th>zip_code</th>\n",
       "      <th>precinct</th>\n",
       "      <th>scout_car_area</th>\n",
       "      <th>neighborhood_name</th>\n",
       "      <th>council_district</th>\n",
       "      <th>longitude</th>\n",
       "      <th>latitude</th>\n",
       "      <th>ESRI_OID</th>\n",
       "      <th>incident_entry_id</th>\n",
       "    </tr>\n",
       "  </thead>\n",
       "  <tbody>\n",
       "    <tr>\n",
       "      <th>0</th>\n",
       "      <td>202200100010</td>\n",
       "      <td>King St &amp; Oakland St</td>\n",
       "      <td>W911</td>\n",
       "      <td>MALICIOUS DESTRUCTION I/P</td>\n",
       "      <td>MDPIP</td>\n",
       "      <td>3</td>\n",
       "      <td>3PCT</td>\n",
       "      <td>381030</td>\n",
       "      <td>2022-01-01 05:04:20+00:00</td>\n",
       "      <td>0.8</td>\n",
       "      <td>55.2</td>\n",
       "      <td>8.5</td>\n",
       "      <td>75.8</td>\n",
       "      <td>65.2</td>\n",
       "      <td>140.9</td>\n",
       "      <td>48211</td>\n",
       "      <td>3.0</td>\n",
       "      <td>302</td>\n",
       "      <td>North End</td>\n",
       "      <td>5.0</td>\n",
       "      <td>-83.071164</td>\n",
       "      <td>42.383712</td>\n",
       "      <td>811061</td>\n",
       "      <td>NaN</td>\n",
       "    </tr>\n",
       "    <tr>\n",
       "      <th>1</th>\n",
       "      <td>202200100021</td>\n",
       "      <td>Holcomb St &amp; E Jefferson Ave</td>\n",
       "      <td>W911</td>\n",
       "      <td>SHOTS FIRED IP</td>\n",
       "      <td>SHOTS IP</td>\n",
       "      <td>1</td>\n",
       "      <td>7PCT</td>\n",
       "      <td>342010</td>\n",
       "      <td>2022-01-01 05:06:56+00:00</td>\n",
       "      <td>0.7</td>\n",
       "      <td>28.3</td>\n",
       "      <td>8.7</td>\n",
       "      <td>5.3</td>\n",
       "      <td>37.7</td>\n",
       "      <td>43.0</td>\n",
       "      <td>48214</td>\n",
       "      <td>7.0</td>\n",
       "      <td>711</td>\n",
       "      <td>Gold Coast</td>\n",
       "      <td>5.0</td>\n",
       "      <td>-82.986218</td>\n",
       "      <td>42.357555</td>\n",
       "      <td>811060</td>\n",
       "      <td>NaN</td>\n",
       "    </tr>\n",
       "    <tr>\n",
       "      <th>2</th>\n",
       "      <td>202200100030</td>\n",
       "      <td>Strathmoor St &amp; Midland St</td>\n",
       "      <td>E911</td>\n",
       "      <td>DISTURBANCE</td>\n",
       "      <td>DISTURB</td>\n",
       "      <td>3</td>\n",
       "      <td>2PCT</td>\n",
       "      <td>825030</td>\n",
       "      <td>2022-01-01 05:10:27+00:00</td>\n",
       "      <td>1.9</td>\n",
       "      <td>80.2</td>\n",
       "      <td>5.4</td>\n",
       "      <td>4.9</td>\n",
       "      <td>88.5</td>\n",
       "      <td>93.4</td>\n",
       "      <td>48227</td>\n",
       "      <td>2.0</td>\n",
       "      <td>201</td>\n",
       "      <td>Bethune Community</td>\n",
       "      <td>1.0</td>\n",
       "      <td>-83.187937</td>\n",
       "      <td>42.405480</td>\n",
       "      <td>811059</td>\n",
       "      <td>NaN</td>\n",
       "    </tr>\n",
       "    <tr>\n",
       "      <th>3</th>\n",
       "      <td>202200100033</td>\n",
       "      <td>Keeler St &amp; Warwick St</td>\n",
       "      <td>PHONE</td>\n",
       "      <td>SHOTS FIRED IP</td>\n",
       "      <td>SHOTS IP</td>\n",
       "      <td>1</td>\n",
       "      <td>8PCT</td>\n",
       "      <td>342010</td>\n",
       "      <td>2022-01-01 05:10:53+00:00</td>\n",
       "      <td>0.8</td>\n",
       "      <td>4.3</td>\n",
       "      <td>3.5</td>\n",
       "      <td>137.8</td>\n",
       "      <td>12.6</td>\n",
       "      <td>150.4</td>\n",
       "      <td>48223</td>\n",
       "      <td>8.0</td>\n",
       "      <td>811</td>\n",
       "      <td>Rosedale Park</td>\n",
       "      <td>1.0</td>\n",
       "      <td>-83.228968</td>\n",
       "      <td>42.402660</td>\n",
       "      <td>811058</td>\n",
       "      <td>NaN</td>\n",
       "    </tr>\n",
       "    <tr>\n",
       "      <th>4</th>\n",
       "      <td>202200100048</td>\n",
       "      <td>Ilene St &amp; Pickford St</td>\n",
       "      <td>W911</td>\n",
       "      <td>MISCELLANEOUS TRAFFIC</td>\n",
       "      <td>MISCTRAF</td>\n",
       "      <td>3</td>\n",
       "      <td>12PCT</td>\n",
       "      <td>817036</td>\n",
       "      <td>2022-01-01 05:14:42+00:00</td>\n",
       "      <td>1.5</td>\n",
       "      <td>211.1</td>\n",
       "      <td>2.2</td>\n",
       "      <td>4.3</td>\n",
       "      <td>215.4</td>\n",
       "      <td>219.7</td>\n",
       "      <td>48221</td>\n",
       "      <td>12.0</td>\n",
       "      <td>1207</td>\n",
       "      <td>Schulze</td>\n",
       "      <td>2.0</td>\n",
       "      <td>-83.162949</td>\n",
       "      <td>42.425949</td>\n",
       "      <td>811057</td>\n",
       "      <td>NaN</td>\n",
       "    </tr>\n",
       "  </tbody>\n",
       "</table>\n",
       "</div>"
      ],
      "text/plain": [
       "    incident_id             incident_location call_source  \\\n",
       "0  202200100010          King St & Oakland St       W911    \n",
       "1  202200100021  Holcomb St & E Jefferson Ave       W911    \n",
       "2  202200100030    Strathmoor St & Midland St       E911    \n",
       "3  202200100033        Keeler St & Warwick St       PHONE   \n",
       "4  202200100048        Ilene St & Pickford St       W911    \n",
       "\n",
       "            call_description  category priority call_group call_code  \\\n",
       "0  MALICIOUS DESTRUCTION I/P  MDPIP           3     3PCT      381030   \n",
       "1             SHOTS FIRED IP  SHOTS IP        1     7PCT      342010   \n",
       "2                DISTURBANCE  DISTURB         3     2PCT      825030   \n",
       "3             SHOTS FIRED IP  SHOTS IP        1     8PCT      342010   \n",
       "4      MISCELLANEOUS TRAFFIC  MISCTRAF        3     12PCT     817036   \n",
       "\n",
       "                   called_at  intake_time  dispatch_time  travel_time  \\\n",
       "0  2022-01-01 05:04:20+00:00          0.8           55.2          8.5   \n",
       "1  2022-01-01 05:06:56+00:00          0.7           28.3          8.7   \n",
       "2  2022-01-01 05:10:27+00:00          1.9           80.2          5.4   \n",
       "3  2022-01-01 05:10:53+00:00          0.8            4.3          3.5   \n",
       "4  2022-01-01 05:14:42+00:00          1.5          211.1          2.2   \n",
       "\n",
       "   on_scene_time  total_response_time  total_time  zip_code  precinct  \\\n",
       "0           75.8                 65.2       140.9     48211       3.0   \n",
       "1            5.3                 37.7        43.0     48214       7.0   \n",
       "2            4.9                 88.5        93.4     48227       2.0   \n",
       "3          137.8                 12.6       150.4     48223       8.0   \n",
       "4            4.3                215.4       219.7     48221      12.0   \n",
       "\n",
       "  scout_car_area  neighborhood_name  council_district  longitude   latitude  \\\n",
       "0           302           North End               5.0 -83.071164  42.383712   \n",
       "1           711          Gold Coast               5.0 -82.986218  42.357555   \n",
       "2           201   Bethune Community               1.0 -83.187937  42.405480   \n",
       "3           811       Rosedale Park               1.0 -83.228968  42.402660   \n",
       "4           1207            Schulze               2.0 -83.162949  42.425949   \n",
       "\n",
       "   ESRI_OID  incident_entry_id  \n",
       "0    811061                NaN  \n",
       "1    811060                NaN  \n",
       "2    811059                NaN  \n",
       "3    811058                NaN  \n",
       "4    811057                NaN  "
      ]
     },
     "execution_count": 5,
     "metadata": {},
     "output_type": "execute_result"
    }
   ],
   "source": [
    "combined_df.head()"
   ]
  },
  {
   "cell_type": "code",
   "execution_count": 6,
   "metadata": {},
   "outputs": [],
   "source": [
    "combined_df = combined_df.drop('incident_entry_id', axis=1)"
   ]
  },
  {
   "cell_type": "code",
   "execution_count": 7,
   "metadata": {},
   "outputs": [
    {
     "name": "stdout",
     "output_type": "stream",
     "text": [
      "<class 'pandas.core.frame.DataFrame'>\n",
      "RangeIndex: 941352 entries, 0 to 941351\n",
      "Data columns (total 23 columns):\n",
      " #   Column               Non-Null Count   Dtype  \n",
      "---  ------               --------------   -----  \n",
      " 0   incident_id          941352 non-null  int64  \n",
      " 1   incident_location    941352 non-null  object \n",
      " 2   call_source          941352 non-null  object \n",
      " 3   call_description     941352 non-null  object \n",
      " 4   category             941352 non-null  object \n",
      " 5   priority             941352 non-null  object \n",
      " 6   call_group           941352 non-null  object \n",
      " 7   call_code            941352 non-null  object \n",
      " 8   called_at            941352 non-null  object \n",
      " 9   intake_time          941352 non-null  float64\n",
      " 10  dispatch_time        941352 non-null  float64\n",
      " 11  travel_time          941351 non-null  float64\n",
      " 12  on_scene_time        941324 non-null  float64\n",
      " 13  total_response_time  941352 non-null  float64\n",
      " 14  total_time           941324 non-null  float64\n",
      " 15  zip_code             941352 non-null  int64  \n",
      " 16  precinct             940737 non-null  float64\n",
      " 17  scout_car_area       941352 non-null  object \n",
      " 18  neighborhood_name    941352 non-null  object \n",
      " 19  council_district     927927 non-null  float64\n",
      " 20  longitude            941352 non-null  float64\n",
      " 21  latitude             941352 non-null  float64\n",
      " 22  ESRI_OID             941352 non-null  int64  \n",
      "dtypes: float64(10), int64(3), object(10)\n",
      "memory usage: 165.2+ MB\n"
     ]
    }
   ],
   "source": [
    "combined_df.info()"
   ]
  },
  {
   "cell_type": "code",
   "execution_count": 8,
   "metadata": {},
   "outputs": [],
   "source": [
    "df_2024['called_at'] = pd.to_datetime(df_2024['called_at'])\n",
    "df_2023['called_at'] = pd.to_datetime(df_2023['called_at'])\n",
    "df_2022['called_at'] = pd.to_datetime(df_2022['called_at'])\n",
    "combined_df['called_at'] = pd.to_datetime(combined_df['called_at'])"
   ]
  },
  {
   "cell_type": "code",
   "execution_count": 9,
   "metadata": {},
   "outputs": [],
   "source": [
    "combined_df['year'] = combined_df['called_at'].dt.year\n",
    "combined_df['month'] = combined_df['called_at'].dt.month\n"
   ]
  },
  {
   "cell_type": "code",
   "execution_count": 10,
   "metadata": {},
   "outputs": [],
   "source": [
    "df_2024['month'] = df_2024['called_at'].dt.strftime(\"%b\")\n",
    "df_2023['month'] = df_2023['called_at'].dt.strftime(\"%b\")\n",
    "df_2022['month'] = df_2022['called_at'].dt.strftime(\"%b\")\n",
    "combined_df['month'] = combined_df['called_at'].dt.strftime(\"%b\")\n"
   ]
  },
  {
   "cell_type": "code",
   "execution_count": 11,
   "metadata": {},
   "outputs": [
    {
     "data": {
      "text/html": [
       "<div>\n",
       "<style scoped>\n",
       "    .dataframe tbody tr th:only-of-type {\n",
       "        vertical-align: middle;\n",
       "    }\n",
       "\n",
       "    .dataframe tbody tr th {\n",
       "        vertical-align: top;\n",
       "    }\n",
       "\n",
       "    .dataframe thead th {\n",
       "        text-align: right;\n",
       "    }\n",
       "</style>\n",
       "<table border=\"1\" class=\"dataframe\">\n",
       "  <thead>\n",
       "    <tr style=\"text-align: right;\">\n",
       "      <th></th>\n",
       "      <th>incident_id</th>\n",
       "      <th>incident_location</th>\n",
       "      <th>call_source</th>\n",
       "      <th>call_description</th>\n",
       "      <th>category</th>\n",
       "      <th>priority</th>\n",
       "      <th>call_group</th>\n",
       "      <th>call_code</th>\n",
       "      <th>called_at</th>\n",
       "      <th>intake_time</th>\n",
       "      <th>dispatch_time</th>\n",
       "      <th>travel_time</th>\n",
       "      <th>on_scene_time</th>\n",
       "      <th>total_response_time</th>\n",
       "      <th>total_time</th>\n",
       "      <th>zip_code</th>\n",
       "      <th>precinct</th>\n",
       "      <th>scout_car_area</th>\n",
       "      <th>neighborhood_name</th>\n",
       "      <th>council_district</th>\n",
       "      <th>longitude</th>\n",
       "      <th>latitude</th>\n",
       "      <th>ESRI_OID</th>\n",
       "      <th>year</th>\n",
       "      <th>month</th>\n",
       "    </tr>\n",
       "  </thead>\n",
       "  <tbody>\n",
       "    <tr>\n",
       "      <th>0</th>\n",
       "      <td>202200100010</td>\n",
       "      <td>King St &amp; Oakland St</td>\n",
       "      <td>W911</td>\n",
       "      <td>MALICIOUS DESTRUCTION I/P</td>\n",
       "      <td>MDPIP</td>\n",
       "      <td>3</td>\n",
       "      <td>3PCT</td>\n",
       "      <td>381030</td>\n",
       "      <td>2022-01-01 05:04:20+00:00</td>\n",
       "      <td>0.8</td>\n",
       "      <td>55.2</td>\n",
       "      <td>8.5</td>\n",
       "      <td>75.8</td>\n",
       "      <td>65.2</td>\n",
       "      <td>140.9</td>\n",
       "      <td>48211</td>\n",
       "      <td>3.0</td>\n",
       "      <td>302</td>\n",
       "      <td>North End</td>\n",
       "      <td>5.0</td>\n",
       "      <td>-83.071164</td>\n",
       "      <td>42.383712</td>\n",
       "      <td>811061</td>\n",
       "      <td>2022</td>\n",
       "      <td>Jan</td>\n",
       "    </tr>\n",
       "    <tr>\n",
       "      <th>1</th>\n",
       "      <td>202200100021</td>\n",
       "      <td>Holcomb St &amp; E Jefferson Ave</td>\n",
       "      <td>W911</td>\n",
       "      <td>SHOTS FIRED IP</td>\n",
       "      <td>SHOTS IP</td>\n",
       "      <td>1</td>\n",
       "      <td>7PCT</td>\n",
       "      <td>342010</td>\n",
       "      <td>2022-01-01 05:06:56+00:00</td>\n",
       "      <td>0.7</td>\n",
       "      <td>28.3</td>\n",
       "      <td>8.7</td>\n",
       "      <td>5.3</td>\n",
       "      <td>37.7</td>\n",
       "      <td>43.0</td>\n",
       "      <td>48214</td>\n",
       "      <td>7.0</td>\n",
       "      <td>711</td>\n",
       "      <td>Gold Coast</td>\n",
       "      <td>5.0</td>\n",
       "      <td>-82.986218</td>\n",
       "      <td>42.357555</td>\n",
       "      <td>811060</td>\n",
       "      <td>2022</td>\n",
       "      <td>Jan</td>\n",
       "    </tr>\n",
       "    <tr>\n",
       "      <th>2</th>\n",
       "      <td>202200100030</td>\n",
       "      <td>Strathmoor St &amp; Midland St</td>\n",
       "      <td>E911</td>\n",
       "      <td>DISTURBANCE</td>\n",
       "      <td>DISTURB</td>\n",
       "      <td>3</td>\n",
       "      <td>2PCT</td>\n",
       "      <td>825030</td>\n",
       "      <td>2022-01-01 05:10:27+00:00</td>\n",
       "      <td>1.9</td>\n",
       "      <td>80.2</td>\n",
       "      <td>5.4</td>\n",
       "      <td>4.9</td>\n",
       "      <td>88.5</td>\n",
       "      <td>93.4</td>\n",
       "      <td>48227</td>\n",
       "      <td>2.0</td>\n",
       "      <td>201</td>\n",
       "      <td>Bethune Community</td>\n",
       "      <td>1.0</td>\n",
       "      <td>-83.187937</td>\n",
       "      <td>42.405480</td>\n",
       "      <td>811059</td>\n",
       "      <td>2022</td>\n",
       "      <td>Jan</td>\n",
       "    </tr>\n",
       "    <tr>\n",
       "      <th>3</th>\n",
       "      <td>202200100033</td>\n",
       "      <td>Keeler St &amp; Warwick St</td>\n",
       "      <td>PHONE</td>\n",
       "      <td>SHOTS FIRED IP</td>\n",
       "      <td>SHOTS IP</td>\n",
       "      <td>1</td>\n",
       "      <td>8PCT</td>\n",
       "      <td>342010</td>\n",
       "      <td>2022-01-01 05:10:53+00:00</td>\n",
       "      <td>0.8</td>\n",
       "      <td>4.3</td>\n",
       "      <td>3.5</td>\n",
       "      <td>137.8</td>\n",
       "      <td>12.6</td>\n",
       "      <td>150.4</td>\n",
       "      <td>48223</td>\n",
       "      <td>8.0</td>\n",
       "      <td>811</td>\n",
       "      <td>Rosedale Park</td>\n",
       "      <td>1.0</td>\n",
       "      <td>-83.228968</td>\n",
       "      <td>42.402660</td>\n",
       "      <td>811058</td>\n",
       "      <td>2022</td>\n",
       "      <td>Jan</td>\n",
       "    </tr>\n",
       "    <tr>\n",
       "      <th>4</th>\n",
       "      <td>202200100048</td>\n",
       "      <td>Ilene St &amp; Pickford St</td>\n",
       "      <td>W911</td>\n",
       "      <td>MISCELLANEOUS TRAFFIC</td>\n",
       "      <td>MISCTRAF</td>\n",
       "      <td>3</td>\n",
       "      <td>12PCT</td>\n",
       "      <td>817036</td>\n",
       "      <td>2022-01-01 05:14:42+00:00</td>\n",
       "      <td>1.5</td>\n",
       "      <td>211.1</td>\n",
       "      <td>2.2</td>\n",
       "      <td>4.3</td>\n",
       "      <td>215.4</td>\n",
       "      <td>219.7</td>\n",
       "      <td>48221</td>\n",
       "      <td>12.0</td>\n",
       "      <td>1207</td>\n",
       "      <td>Schulze</td>\n",
       "      <td>2.0</td>\n",
       "      <td>-83.162949</td>\n",
       "      <td>42.425949</td>\n",
       "      <td>811057</td>\n",
       "      <td>2022</td>\n",
       "      <td>Jan</td>\n",
       "    </tr>\n",
       "  </tbody>\n",
       "</table>\n",
       "</div>"
      ],
      "text/plain": [
       "    incident_id             incident_location call_source  \\\n",
       "0  202200100010          King St & Oakland St       W911    \n",
       "1  202200100021  Holcomb St & E Jefferson Ave       W911    \n",
       "2  202200100030    Strathmoor St & Midland St       E911    \n",
       "3  202200100033        Keeler St & Warwick St       PHONE   \n",
       "4  202200100048        Ilene St & Pickford St       W911    \n",
       "\n",
       "            call_description  category priority call_group call_code  \\\n",
       "0  MALICIOUS DESTRUCTION I/P  MDPIP           3     3PCT      381030   \n",
       "1             SHOTS FIRED IP  SHOTS IP        1     7PCT      342010   \n",
       "2                DISTURBANCE  DISTURB         3     2PCT      825030   \n",
       "3             SHOTS FIRED IP  SHOTS IP        1     8PCT      342010   \n",
       "4      MISCELLANEOUS TRAFFIC  MISCTRAF        3     12PCT     817036   \n",
       "\n",
       "                  called_at  intake_time  dispatch_time  travel_time  \\\n",
       "0 2022-01-01 05:04:20+00:00          0.8           55.2          8.5   \n",
       "1 2022-01-01 05:06:56+00:00          0.7           28.3          8.7   \n",
       "2 2022-01-01 05:10:27+00:00          1.9           80.2          5.4   \n",
       "3 2022-01-01 05:10:53+00:00          0.8            4.3          3.5   \n",
       "4 2022-01-01 05:14:42+00:00          1.5          211.1          2.2   \n",
       "\n",
       "   on_scene_time  total_response_time  total_time  zip_code  precinct  \\\n",
       "0           75.8                 65.2       140.9     48211       3.0   \n",
       "1            5.3                 37.7        43.0     48214       7.0   \n",
       "2            4.9                 88.5        93.4     48227       2.0   \n",
       "3          137.8                 12.6       150.4     48223       8.0   \n",
       "4            4.3                215.4       219.7     48221      12.0   \n",
       "\n",
       "  scout_car_area  neighborhood_name  council_district  longitude   latitude  \\\n",
       "0           302           North End               5.0 -83.071164  42.383712   \n",
       "1           711          Gold Coast               5.0 -82.986218  42.357555   \n",
       "2           201   Bethune Community               1.0 -83.187937  42.405480   \n",
       "3           811       Rosedale Park               1.0 -83.228968  42.402660   \n",
       "4           1207            Schulze               2.0 -83.162949  42.425949   \n",
       "\n",
       "   ESRI_OID  year month  \n",
       "0    811061  2022   Jan  \n",
       "1    811060  2022   Jan  \n",
       "2    811059  2022   Jan  \n",
       "3    811058  2022   Jan  \n",
       "4    811057  2022   Jan  "
      ]
     },
     "execution_count": 11,
     "metadata": {},
     "output_type": "execute_result"
    }
   ],
   "source": [
    "combined_df.head()"
   ]
  },
  {
   "cell_type": "code",
   "execution_count": 12,
   "metadata": {},
   "outputs": [
    {
     "data": {
      "image/png": "[encoded data removed]",
      "text/plain": [
       "<Figure size 800x100 with 1 Axes>"
      ]
     },
     "metadata": {},
     "output_type": "display_data"
    }
   ],
   "source": [
    "#### Call volume\n",
    "sns.palplot(['#18252A','#004445', '#279989', '#6BAA75','#9FD5B3','#A7AAA4','#C2C6A7','#feb70d'])\n",
    "\n",
    "plt.title(\"Detroit brand palette \",loc='left',fontfamily='sans-serif',fontsize=15,y=1.2)\n",
    "plt.show()"
   ]
  },
  {
   "cell_type": "markdown",
   "metadata": {},
   "source": [
    " A line chart or area chart showing the number of incidents over time (e.g., by day, week, month)."
   ]
  },
  {
   "cell_type": "code",
   "execution_count": 13,
   "metadata": {},
   "outputs": [],
   "source": [
    "\n",
    "x_a= df_2024['month'].unique()\n",
    "\n"
   ]
  },
  {
   "cell_type": "code",
   "execution_count": 14,
   "metadata": {},
   "outputs": [
    {
     "data": {
      "text/plain": [
       "[<matplotlib.collections.FillBetweenPolyCollection at 0x157d5d386e0>,\n",
       " <matplotlib.collections.FillBetweenPolyCollection at 0x157d5df1590>,\n",
       " <matplotlib.collections.FillBetweenPolyCollection at 0x157d5df1bd0>]"
      ]
     },
     "execution_count": 14,
     "metadata": {},
     "output_type": "execute_result"
    },
    {
     "data": {
      "image/png": "[encoded data removed]",
      "text/plain": [
       "<Figure size 640x480 with 1 Axes>"
      ]
     },
     "metadata": {},
     "output_type": "display_data"
    }
   ],
   "source": [
    "sns.set_theme(style = 'darkgrid')\n",
    "fig, ax = plt.subplots()\n",
    "\n",
    "calls_2024= df_2024.groupby('month')['incident_id'].count()\n",
    "calls_2022 = df_2022.groupby('month')['incident_id'].count()\n",
    "calls_2023 = df_2023.groupby('month')['incident_id'].count()\n",
    "\n",
    "#ax.plot(x,y)\n",
    "ax.stackplot(x_a,\n",
    "             calls_2024,calls_2023,calls_2022,\n",
    "             colors=['#18252A','#279989', '#9FD5B3']\n",
    "             )\n",
    "\n"
   ]
  },
  {
   "cell_type": "code",
   "execution_count": 15,
   "metadata": {},
   "outputs": [],
   "source": [
    "\n",
    "df_merge_three = [calls_2024, calls_2023, calls_2022]\n",
    "\n",
    "import functools as ft\n",
    "df_final = ft.reduce(lambda left, right: pd.merge(left, right, on='month',how='left'), df_merge_three)\n"
   ]
  },
  {
   "cell_type": "code",
   "execution_count": 16,
   "metadata": {},
   "outputs": [
    {
     "data": {
      "text/plain": [
       "np.float64(24764.5)"
      ]
     },
     "execution_count": 16,
     "metadata": {},
     "output_type": "execute_result"
    }
   ],
   "source": [
    "df_final['incident_id'].mean()"
   ]
  },
  {
   "cell_type": "code",
   "execution_count": 17,
   "metadata": {},
   "outputs": [],
   "source": [
    "average = (df_final['incident_id_x'].mean() + df_final['incident_id_y'].mean()+ df_final['incident_id'].mean())/3"
   ]
  },
  {
   "cell_type": "code",
   "execution_count": 18,
   "metadata": {},
   "outputs": [
    {
     "data": {
      "text/plain": [
       "np.float64(26148.666666666668)"
      ]
     },
     "execution_count": 18,
     "metadata": {},
     "output_type": "execute_result"
    }
   ],
   "source": [
    "average"
   ]
  },
  {
   "cell_type": "code",
   "execution_count": 19,
   "metadata": {},
   "outputs": [
    {
     "data": {
      "application/vnd.plotly.v1+json": {
       "config": {
        "plotlyServerURL": "https://plot.ly"
       },
       "data": [
        {
         "marker": {
          "color": "rgba(159, 213, 179, 1)"
         },
         "name": "2022",
         "type": "bar",
         "x": [
          "Jan",
          "Feb",
          "Mar",
          "Apr",
          "May",
          "Jun",
          "Jul",
          "Aug",
          "Sep",
          "Oct",
          "Nov",
          "Dec"
         ],
         "y": [
          23683,
          27023,
          24285,
          18908,
          20270,
          27326,
          27165,
          23037,
          27606,
          25039,
          26547,
          26285
         ]
        },
        {
         "marker": {
          "color": "rgba(39, 153, 137, 1)"
         },
         "name": "2023",
         "type": "bar",
         "x": [
          "Jan",
          "Feb",
          "Mar",
          "Apr",
          "May",
          "Jun",
          "Jul",
          "Aug",
          "Sep",
          "Oct",
          "Nov",
          "Dec"
         ],
         "y": [
          26003,
          29300,
          25676,
          22373,
          24263,
          30000,
          28491,
          25013,
          28807,
          24286,
          27533,
          27806
         ]
        },
        {
         "marker": {
          "color": "rgba(24, 37, 42, 1)"
         },
         "name": "2024",
         "type": "bar",
         "x": [
          "Jan",
          "Feb",
          "Mar",
          "Apr",
          "May",
          "Jun",
          "Jul",
          "Aug",
          "Sep",
          "Oct",
          "Nov",
          "Dec"
         ],
         "y": [
          25891,
          29704,
          24659,
          23101,
          22926,
          31072,
          29369,
          24998,
          30270,
          25426,
          28139,
          29072
         ]
        }
       ],
       "layout": {
        "shapes": [
         {
          "label": {
           "font": {
            "color": "black",
            "size": 15
           },
           "text": "26148",
           "textposition": "start",
           "yanchor": "top"
          },
          "legendrank": 1,
          "line": {
           "color": "rgba(254, 183, 13, 1)",
           "dash": "5px"
          },
          "name": "Average",
          "showlegend": true,
          "type": "line",
          "x0": 0,
          "x1": 1,
          "xref": "paper",
          "y0": 26148.666666666668,
          "y1": 26148.666666666668
         }
        ],
        "template": {
         "data": {
          "bar": [
           {
            "error_x": {
             "color": "#2a3f5f"
            },
            "error_y": {
             "color": "#2a3f5f"
            },
            "marker": {
             "line": {
              "color": "#E5ECF6",
              "width": 0.5
             },
             "pattern": {
              "fillmode": "overlay",
              "size": 10,
              "solidity": 0.2
             }
            },
            "type": "bar"
           }
          ],
          "barpolar": [
           {
            "marker": {
             "line": {
              "color": "#E5ECF6",
              "width": 0.5
             },
             "pattern": {
              "fillmode": "overlay",
              "size": 10,
              "solidity": 0.2
             }
            },
            "type": "barpolar"
           }
          ],
          "carpet": [
           {
            "aaxis": {
             "endlinecolor": "#2a3f5f",
             "gridcolor": "white",
             "linecolor": "white",
             "minorgridcolor": "white",
             "startlinecolor": "#2a3f5f"
            },
            "baxis": {
             "endlinecolor": "#2a3f5f",
             "gridcolor": "white",
             "linecolor": "white",
             "minorgridcolor": "white",
             "startlinecolor": "#2a3f5f"
            },
            "type": "carpet"
           }
          ],
          "choropleth": [
           {
            "colorbar": {
             "outlinewidth": 0,
             "ticks": ""
            },
            "type": "choropleth"
           }
          ],
          "contour": [
           {
            "colorbar": {
             "outlinewidth": 0,
             "ticks": ""
            },
            "colorscale": [
             [
              0,
              "#0d0887"
             ],
             [
              0.1111111111111111,
              "#46039f"
             ],
             [
              0.2222222222222222,
              "#7201a8"
             ],
             [
              0.3333333333333333,
              "#9c179e"
             ],
             [
              0.4444444444444444,
              "#bd3786"
             ],
             [
              0.5555555555555556,
              "#d8576b"
             ],
             [
              0.6666666666666666,
              "#ed7953"
             ],
             [
              0.7777777777777778,
              "#fb9f3a"
             ],
             [
              0.8888888888888888,
              "#fdca26"
             ],
             [
              1,
              "#f0f921"
             ]
            ],
            "type": "contour"
           }
          ],
          "contourcarpet": [
           {
            "colorbar": {
             "outlinewidth": 0,
             "ticks": ""
            },
            "type": "contourcarpet"
           }
          ],
          "heatmap": [
           {
            "colorbar": {
             "outlinewidth": 0,
             "ticks": ""
            },
            "colorscale": [
             [
              0,
              "#0d0887"
             ],
             [
              0.1111111111111111,
              "#46039f"
             ],
             [
              0.2222222222222222,
              "#7201a8"
             ],
             [
              0.3333333333333333,
              "#9c179e"
             ],
             [
              0.4444444444444444,
              "#bd3786"
             ],
             [
              0.5555555555555556,
              "#d8576b"
             ],
             [
              0.6666666666666666,
              "#ed7953"
             ],
             [
              0.7777777777777778,
              "#fb9f3a"
             ],
             [
              0.8888888888888888,
              "#fdca26"
             ],
             [
              1,
              "#f0f921"
             ]
            ],
            "type": "heatmap"
           }
          ],
          "heatmapgl": [
           {
            "colorbar": {
             "outlinewidth": 0,
             "ticks": ""
            },
            "colorscale": [
             [
              0,
              "#0d0887"
             ],
             [
              0.1111111111111111,
              "#46039f"
             ],
             [
              0.2222222222222222,
              "#7201a8"
             ],
             [
              0.3333333333333333,
              "#9c179e"
             ],
             [
              0.4444444444444444,
              "#bd3786"
             ],
             [
              0.5555555555555556,
              "#d8576b"
             ],
             [
              0.6666666666666666,
              "#ed7953"
             ],
             [
              0.7777777777777778,
              "#fb9f3a"
             ],
             [
              0.8888888888888888,
              "#fdca26"
             ],
             [
              1,
              "#f0f921"
             ]
            ],
            "type": "heatmapgl"
           }
          ],
          "histogram": [
           {
            "marker": {
             "pattern": {
              "fillmode": "overlay",
              "size": 10,
              "solidity": 0.2
             }
            },
            "type": "histogram"
           }
          ],
          "histogram2d": [
           {
            "colorbar": {
             "outlinewidth": 0,
             "ticks": ""
            },
            "colorscale": [
             [
              0,
              "#0d0887"
             ],
             [
              0.1111111111111111,
              "#46039f"
             ],
             [
              0.2222222222222222,
              "#7201a8"
             ],
             [
              0.3333333333333333,
              "#9c179e"
             ],
             [
              0.4444444444444444,
              "#bd3786"
             ],
             [
              0.5555555555555556,
              "#d8576b"
             ],
             [
              0.6666666666666666,
              "#ed7953"
             ],
             [
              0.7777777777777778,
              "#fb9f3a"
             ],
             [
              0.8888888888888888,
              "#fdca26"
             ],
             [
              1,
              "#f0f921"
             ]
            ],
            "type": "histogram2d"
           }
          ],
          "histogram2dcontour": [
           {
            "colorbar": {
             "outlinewidth": 0,
             "ticks": ""
            },
            "colorscale": [
             [
              0,
              "#0d0887"
             ],
             [
              0.1111111111111111,
              "#46039f"
             ],
             [
              0.2222222222222222,
              "#7201a8"
             ],
             [
              0.3333333333333333,
              "#9c179e"
             ],
             [
              0.4444444444444444,
              "#bd3786"
             ],
             [
              0.5555555555555556,
              "#d8576b"
             ],
             [
              0.6666666666666666,
              "#ed7953"
             ],
             [
              0.7777777777777778,
              "#fb9f3a"
             ],
             [
              0.8888888888888888,
              "#fdca26"
             ],
             [
              1,
              "#f0f921"
             ]
            ],
            "type": "histogram2dcontour"
           }
          ],
          "mesh3d": [
           {
            "colorbar": {
             "outlinewidth": 0,
             "ticks": ""
            },
            "type": "mesh3d"
           }
          ],
          "parcoords": [
           {
            "line": {
             "colorbar": {
              "outlinewidth": 0,
              "ticks": ""
             }
            },
            "type": "parcoords"
           }
          ],
          "pie": [
           {
            "automargin": true,
            "type": "pie"
           }
          ],
          "scatter": [
           {
            "fillpattern": {
             "fillmode": "overlay",
             "size": 10,
             "solidity": 0.2
            },
            "type": "scatter"
           }
          ],
          "scatter3d": [
           {
            "line": {
             "colorbar": {
              "outlinewidth": 0,
              "ticks": ""
             }
            },
            "marker": {
             "colorbar": {
              "outlinewidth": 0,
              "ticks": ""
             }
            },
            "type": "scatter3d"
           }
          ],
          "scattercarpet": [
           {
            "marker": {
             "colorbar": {
              "outlinewidth": 0,
              "ticks": ""
             }
            },
            "type": "scattercarpet"
           }
          ],
          "scattergeo": [
           {
            "marker": {
             "colorbar": {
              "outlinewidth": 0,
              "ticks": ""
             }
            },
            "type": "scattergeo"
           }
          ],
          "scattergl": [
           {
            "marker": {
             "colorbar": {
              "outlinewidth": 0,
              "ticks": ""
             }
            },
            "type": "scattergl"
           }
          ],
          "scattermapbox": [
           {
            "marker": {
             "colorbar": {
              "outlinewidth": 0,
              "ticks": ""
             }
            },
            "type": "scattermapbox"
           }
          ],
          "scatterpolar": [
           {
            "marker": {
             "colorbar": {
              "outlinewidth": 0,
              "ticks": ""
             }
            },
            "type": "scatterpolar"
           }
          ],
          "scatterpolargl": [
           {
            "marker": {
             "colorbar": {
              "outlinewidth": 0,
              "ticks": ""
             }
            },
            "type": "scatterpolargl"
           }
          ],
          "scatterternary": [
           {
            "marker": {
             "colorbar": {
              "outlinewidth": 0,
              "ticks": ""
             }
            },
            "type": "scatterternary"
           }
          ],
          "surface": [
           {
            "colorbar": {
             "outlinewidth": 0,
             "ticks": ""
            },
            "colorscale": [
             [
              0,
              "#0d0887"
             ],
             [
              0.1111111111111111,
              "#46039f"
             ],
             [
              0.2222222222222222,
              "#7201a8"
             ],
             [
              0.3333333333333333,
              "#9c179e"
             ],
             [
              0.4444444444444444,
              "#bd3786"
             ],
             [
              0.5555555555555556,
              "#d8576b"
             ],
             [
              0.6666666666666666,
              "#ed7953"
             ],
             [
              0.7777777777777778,
              "#fb9f3a"
             ],
             [
              0.8888888888888888,
              "#fdca26"
             ],
             [
              1,
              "#f0f921"
             ]
            ],
            "type": "surface"
           }
          ],
          "table": [
           {
            "cells": {
             "fill": {
              "color": "#EBF0F8"
             },
             "line": {
              "color": "white"
             }
            },
            "header": {
             "fill": {
              "color": "#C8D4E3"
             },
             "line": {
              "color": "white"
             }
            },
            "type": "table"
           }
          ]
         },
         "layout": {
          "annotationdefaults": {
           "arrowcolor": "#2a3f5f",
           "arrowhead": 0,
           "arrowwidth": 1
          },
          "autotypenumbers": "strict",
          "coloraxis": {
           "colorbar": {
            "outlinewidth": 0,
            "ticks": ""
           }
          },
          "colorscale": {
           "diverging": [
            [
             0,
             "#8e0152"
            ],
            [
             0.1,
             "#c51b7d"
            ],
            [
             0.2,
             "#de77ae"
            ],
            [
             0.3,
             "#f1b6da"
            ],
            [
             0.4,
             "#fde0ef"
            ],
            [
             0.5,
             "#f7f7f7"
            ],
            [
             0.6,
             "#e6f5d0"
            ],
            [
             0.7,
             "#b8e186"
            ],
            [
             0.8,
             "#7fbc41"
            ],
            [
             0.9,
             "#4d9221"
            ],
            [
             1,
             "#276419"
            ]
           ],
           "sequential": [
            [
             0,
             "#0d0887"
            ],
            [
             0.1111111111111111,
             "#46039f"
            ],
            [
             0.2222222222222222,
             "#7201a8"
            ],
            [
             0.3333333333333333,
             "#9c179e"
            ],
            [
             0.4444444444444444,
             "#bd3786"
            ],
            [
             0.5555555555555556,
             "#d8576b"
            ],
            [
             0.6666666666666666,
             "#ed7953"
            ],
            [
             0.7777777777777778,
             "#fb9f3a"
            ],
            [
             0.8888888888888888,
             "#fdca26"
            ],
            [
             1,
             "#f0f921"
            ]
           ],
           "sequentialminus": [
            [
             0,
             "#0d0887"
            ],
            [
             0.1111111111111111,
             "#46039f"
            ],
            [
             0.2222222222222222,
             "#7201a8"
            ],
            [
             0.3333333333333333,
             "#9c179e"
            ],
            [
             0.4444444444444444,
             "#bd3786"
            ],
            [
             0.5555555555555556,
             "#d8576b"
            ],
            [
             0.6666666666666666,
             "#ed7953"
            ],
            [
             0.7777777777777778,
             "#fb9f3a"
            ],
            [
             0.8888888888888888,
             "#fdca26"
            ],
            [
             1,
             "#f0f921"
            ]
           ]
          },
          "colorway": [
           "#636efa",
           "#EF553B",
           "#00cc96",
           "#ab63fa",
           "#FFA15A",
           "#19d3f3",
           "#FF6692",
           "#B6E880",
           "#FF97FF",
           "#FECB52"
          ],
          "font": {
           "color": "#2a3f5f"
          },
          "geo": {
           "bgcolor": "white",
           "lakecolor": "white",
           "landcolor": "#E5ECF6",
           "showlakes": true,
           "showland": true,
           "subunitcolor": "white"
          },
          "hoverlabel": {
           "align": "left"
          },
          "hovermode": "closest",
          "mapbox": {
           "style": "light"
          },
          "paper_bgcolor": "white",
          "plot_bgcolor": "#E5ECF6",
          "polar": {
           "angularaxis": {
            "gridcolor": "white",
            "linecolor": "white",
            "ticks": ""
           },
           "bgcolor": "#E5ECF6",
           "radialaxis": {
            "gridcolor": "white",
            "linecolor": "white",
            "ticks": ""
           }
          },
          "scene": {
           "xaxis": {
            "backgroundcolor": "#E5ECF6",
            "gridcolor": "white",
            "gridwidth": 2,
            "linecolor": "white",
            "showbackground": true,
            "ticks": "",
            "zerolinecolor": "white"
           },
           "yaxis": {
            "backgroundcolor": "#E5ECF6",
            "gridcolor": "white",
            "gridwidth": 2,
            "linecolor": "white",
            "showbackground": true,
            "ticks": "",
            "zerolinecolor": "white"
           },
           "zaxis": {
            "backgroundcolor": "#E5ECF6",
            "gridcolor": "white",
            "gridwidth": 2,
            "linecolor": "white",
            "showbackground": true,
            "ticks": "",
            "zerolinecolor": "white"
           }
          },
          "shapedefaults": {
           "line": {
            "color": "#2a3f5f"
           }
          },
          "ternary": {
           "aaxis": {
            "gridcolor": "white",
            "linecolor": "white",
            "ticks": ""
           },
           "baxis": {
            "gridcolor": "white",
            "linecolor": "white",
            "ticks": ""
           },
           "bgcolor": "#E5ECF6",
           "caxis": {
            "gridcolor": "white",
            "linecolor": "white",
            "ticks": ""
           }
          },
          "title": {
           "x": 0.05
          },
          "xaxis": {
           "automargin": true,
           "gridcolor": "white",
           "linecolor": "white",
           "ticks": "",
           "title": {
            "standoff": 15
           },
           "zerolinecolor": "white",
           "zerolinewidth": 2
          },
          "yaxis": {
           "automargin": true,
           "gridcolor": "white",
           "linecolor": "white",
           "ticks": "",
           "title": {
            "standoff": 15
           },
           "zerolinecolor": "white",
           "zerolinewidth": 2
          }
         }
        },
        "title": {
         "font": {
          "color": "black",
          "size": 20
         },
         "text": "Call Volume Per Month"
        },
        "xaxis": {
         "title": {
          "text": "Month"
         }
        },
        "yaxis": {
         "title": {
          "text": "Number of calls"
         }
        }
       }
      }
     },
     "metadata": {},
     "output_type": "display_data"
    }
   ],
   "source": [
    "\n",
    "colors = {'2022':'rgba(159, 213, 179, 1)','2023':'rgba(39, 153, 137, 1)','2024':'rgba(24, 37, 42, 1)','Average':'rgba(254, 183, 13, 1)'}\n",
    "fig = go.Figure()\n",
    "fig.add_trace(go.Bar(name=\"2022\", x=x_a, y=calls_2022,marker_color=colors['2022']))\n",
    "fig.add_trace(go.Bar(name=\"2023\", x=x_a, y=calls_2023,marker_color=colors['2023']))\n",
    "fig.add_trace(go.Bar(name=\"2024\", x=x_a, y=calls_2024,marker_color=colors['2024']))\n",
    "fig.update_layout(\n",
    "    title = dict(text = \"Call Volume Per Month\",\n",
    "                 \n",
    "                 font=dict(size=20, color=\"black\")),\n",
    "    xaxis_title=\"Month\",\n",
    "    yaxis_title=\"Number of calls\", \n",
    ")\n",
    "fig.add_shape(\n",
    "    legendrank=1,\n",
    "    name=\"Average\",\n",
    "    showlegend=True,\n",
    "    type=\"line\",\n",
    "    xref=\"paper\",\n",
    "    line=dict(dash=\"5px\",color=colors['Average']),\n",
    "    label=dict(\n",
    "        text=\"26148\",\n",
    "        textposition=\"start\",\n",
    "        font=dict(size=15, color=\"black\"),\n",
    "        yanchor=\"top\"),\n",
    "    x0=0.00,\n",
    "    x1=1.0,\n",
    "    y0=average,\n",
    "    y1=average\n",
    ")\n",
    "fig.show()"
   ]
  },
  {
   "cell_type": "markdown",
   "metadata": {},
   "source": [
    "####  heatmap showing incident frequency by hour."
   ]
  },
  {
   "cell_type": "markdown",
   "metadata": {},
   "source": []
  },
  {
   "cell_type": "code",
   "execution_count": 20,
   "metadata": {},
   "outputs": [],
   "source": [
    "df_new_2024 = df_2024.loc[df_2024['called_at']<'2025-01-01'].copy()"
   ]
  },
  {
   "cell_type": "code",
   "execution_count": 21,
   "metadata": {},
   "outputs": [],
   "source": [
    "df_new_2024['hour_of_day'] = df_2024['called_at'].dt.hour\n",
    "\n",
    "#hours_2024= df_2024.groupby('month')['incident_id'].count()"
   ]
  },
  {
   "cell_type": "code",
   "execution_count": 22,
   "metadata": {},
   "outputs": [],
   "source": [
    "\n",
    "df_new_2024['Day_of_week'] = df_new_2024['called_at'].dt.strftime(\"%a\")\n"
   ]
  },
  {
   "cell_type": "code",
   "execution_count": 23,
   "metadata": {},
   "outputs": [
    {
     "data": {
      "text/html": [
       "<div>\n",
       "<style scoped>\n",
       "    .dataframe tbody tr th:only-of-type {\n",
       "        vertical-align: middle;\n",
       "    }\n",
       "\n",
       "    .dataframe tbody tr th {\n",
       "        vertical-align: top;\n",
       "    }\n",
       "\n",
       "    .dataframe thead th {\n",
       "        text-align: right;\n",
       "    }\n",
       "</style>\n",
       "<table border=\"1\" class=\"dataframe\">\n",
       "  <thead>\n",
       "    <tr style=\"text-align: right;\">\n",
       "      <th></th>\n",
       "      <th>incident_entry_id</th>\n",
       "      <th>incident_id</th>\n",
       "      <th>incident_location</th>\n",
       "      <th>call_source</th>\n",
       "      <th>call_description</th>\n",
       "      <th>category</th>\n",
       "      <th>priority</th>\n",
       "      <th>call_group</th>\n",
       "      <th>call_code</th>\n",
       "      <th>called_at</th>\n",
       "      <th>intake_time</th>\n",
       "      <th>dispatch_time</th>\n",
       "      <th>travel_time</th>\n",
       "      <th>on_scene_time</th>\n",
       "      <th>total_response_time</th>\n",
       "      <th>total_time</th>\n",
       "      <th>zip_code</th>\n",
       "      <th>precinct</th>\n",
       "      <th>scout_car_area</th>\n",
       "      <th>neighborhood_name</th>\n",
       "      <th>council_district</th>\n",
       "      <th>longitude</th>\n",
       "      <th>latitude</th>\n",
       "      <th>ESRI_OID</th>\n",
       "      <th>month</th>\n",
       "      <th>hour_of_day</th>\n",
       "      <th>Day_of_week</th>\n",
       "    </tr>\n",
       "  </thead>\n",
       "  <tbody>\n",
       "    <tr>\n",
       "      <th>0</th>\n",
       "      <td>240010058</td>\n",
       "      <td>202400100058</td>\n",
       "      <td>Lappin St &amp; Hoover St</td>\n",
       "      <td>W911</td>\n",
       "      <td>FELONIOUS ASSAULT IP</td>\n",
       "      <td>FA IP</td>\n",
       "      <td>1</td>\n",
       "      <td>9PCT</td>\n",
       "      <td>343010</td>\n",
       "      <td>2024-01-01 05:02:10+00:00</td>\n",
       "      <td>1.1</td>\n",
       "      <td>47.4</td>\n",
       "      <td>2.9</td>\n",
       "      <td>8.9</td>\n",
       "      <td>52.6</td>\n",
       "      <td>61.6</td>\n",
       "      <td>48205</td>\n",
       "      <td>9.0</td>\n",
       "      <td>901</td>\n",
       "      <td>Pulaski</td>\n",
       "      <td>3.0</td>\n",
       "      <td>-83.004767</td>\n",
       "      <td>42.436478</td>\n",
       "      <td>331888</td>\n",
       "      <td>Jan</td>\n",
       "      <td>5</td>\n",
       "      <td>Mon</td>\n",
       "    </tr>\n",
       "    <tr>\n",
       "      <th>1</th>\n",
       "      <td>240010063</td>\n",
       "      <td>202400100063</td>\n",
       "      <td>Eaton St &amp; Cloverlawn St</td>\n",
       "      <td>W911</td>\n",
       "      <td>SHOTS FIRED IP</td>\n",
       "      <td>SHOTS IP</td>\n",
       "      <td>1</td>\n",
       "      <td>10PCT</td>\n",
       "      <td>342010</td>\n",
       "      <td>2024-01-01 05:02:24+00:00</td>\n",
       "      <td>0.6</td>\n",
       "      <td>67.8</td>\n",
       "      <td>3.4</td>\n",
       "      <td>9.5</td>\n",
       "      <td>73.3</td>\n",
       "      <td>82.8</td>\n",
       "      <td>48238</td>\n",
       "      <td>10.0</td>\n",
       "      <td>1001</td>\n",
       "      <td>Chalfonte</td>\n",
       "      <td>2.0</td>\n",
       "      <td>-83.152276</td>\n",
       "      <td>42.398040</td>\n",
       "      <td>331886</td>\n",
       "      <td>Jan</td>\n",
       "      <td>5</td>\n",
       "      <td>Mon</td>\n",
       "    </tr>\n",
       "    <tr>\n",
       "      <th>2</th>\n",
       "      <td>240010065</td>\n",
       "      <td>202400100065</td>\n",
       "      <td>E Lafayette St &amp; Beaubien St</td>\n",
       "      <td>E911</td>\n",
       "      <td>DISTURBANCE</td>\n",
       "      <td>DISTURB</td>\n",
       "      <td>1</td>\n",
       "      <td>3PCT</td>\n",
       "      <td>GL8777</td>\n",
       "      <td>2024-01-01 05:02:30+00:00</td>\n",
       "      <td>1.3</td>\n",
       "      <td>-0.1</td>\n",
       "      <td>0.0</td>\n",
       "      <td>21.8</td>\n",
       "      <td>2.2</td>\n",
       "      <td>24.0</td>\n",
       "      <td>48226</td>\n",
       "      <td>3.0</td>\n",
       "      <td>312</td>\n",
       "      <td>Greektown</td>\n",
       "      <td>5.0</td>\n",
       "      <td>-83.042000</td>\n",
       "      <td>42.334006</td>\n",
       "      <td>331884</td>\n",
       "      <td>Jan</td>\n",
       "      <td>5</td>\n",
       "      <td>Mon</td>\n",
       "    </tr>\n",
       "    <tr>\n",
       "      <th>3</th>\n",
       "      <td>240010083</td>\n",
       "      <td>202400100083</td>\n",
       "      <td>Clarita St &amp; Glenhurst St</td>\n",
       "      <td>W911</td>\n",
       "      <td>UNKNOWN PROBLEM</td>\n",
       "      <td>UNKPROB</td>\n",
       "      <td>2</td>\n",
       "      <td>8PCT</td>\n",
       "      <td>843020</td>\n",
       "      <td>2024-01-01 05:03:31+00:00</td>\n",
       "      <td>1.3</td>\n",
       "      <td>914.4</td>\n",
       "      <td>3.6</td>\n",
       "      <td>2.8</td>\n",
       "      <td>920.0</td>\n",
       "      <td>922.8</td>\n",
       "      <td>48219</td>\n",
       "      <td>8.0</td>\n",
       "      <td>805</td>\n",
       "      <td>Seven Mile-Rouge</td>\n",
       "      <td>1.0</td>\n",
       "      <td>-83.270550</td>\n",
       "      <td>42.427187</td>\n",
       "      <td>331882</td>\n",
       "      <td>Jan</td>\n",
       "      <td>5</td>\n",
       "      <td>Mon</td>\n",
       "    </tr>\n",
       "    <tr>\n",
       "      <th>4</th>\n",
       "      <td>240010084</td>\n",
       "      <td>202400100084</td>\n",
       "      <td>Petoskey Ave &amp; Midland St</td>\n",
       "      <td>W911</td>\n",
       "      <td>SHOTS FIRED IP</td>\n",
       "      <td>SHOTS IP</td>\n",
       "      <td>1</td>\n",
       "      <td>12PCT</td>\n",
       "      <td>342010</td>\n",
       "      <td>2024-01-01 05:03:38+00:00</td>\n",
       "      <td>0.9</td>\n",
       "      <td>27.0</td>\n",
       "      <td>3.9</td>\n",
       "      <td>17.0</td>\n",
       "      <td>32.4</td>\n",
       "      <td>49.4</td>\n",
       "      <td>48238</td>\n",
       "      <td>12.0</td>\n",
       "      <td>1212</td>\n",
       "      <td>Pilgrim Village</td>\n",
       "      <td>2.0</td>\n",
       "      <td>-83.139391</td>\n",
       "      <td>42.406320</td>\n",
       "      <td>331880</td>\n",
       "      <td>Jan</td>\n",
       "      <td>5</td>\n",
       "      <td>Mon</td>\n",
       "    </tr>\n",
       "    <tr>\n",
       "      <th>...</th>\n",
       "      <td>...</td>\n",
       "      <td>...</td>\n",
       "      <td>...</td>\n",
       "      <td>...</td>\n",
       "      <td>...</td>\n",
       "      <td>...</td>\n",
       "      <td>...</td>\n",
       "      <td>...</td>\n",
       "      <td>...</td>\n",
       "      <td>...</td>\n",
       "      <td>...</td>\n",
       "      <td>...</td>\n",
       "      <td>...</td>\n",
       "      <td>...</td>\n",
       "      <td>...</td>\n",
       "      <td>...</td>\n",
       "      <td>...</td>\n",
       "      <td>...</td>\n",
       "      <td>...</td>\n",
       "      <td>...</td>\n",
       "      <td>...</td>\n",
       "      <td>...</td>\n",
       "      <td>...</td>\n",
       "      <td>...</td>\n",
       "      <td>...</td>\n",
       "      <td>...</td>\n",
       "      <td>...</td>\n",
       "    </tr>\n",
       "    <tr>\n",
       "      <th>324358</th>\n",
       "      <td>243663887</td>\n",
       "      <td>202436603887</td>\n",
       "      <td>Ewald Cir &amp; Fullerton St</td>\n",
       "      <td>W911</td>\n",
       "      <td>UNKNOWN PROBLEM</td>\n",
       "      <td>UNKPROB</td>\n",
       "      <td>2</td>\n",
       "      <td>10PCT</td>\n",
       "      <td>843020</td>\n",
       "      <td>2024-12-31 23:52:28+00:00</td>\n",
       "      <td>1.1</td>\n",
       "      <td>5.4</td>\n",
       "      <td>5.7</td>\n",
       "      <td>3.7</td>\n",
       "      <td>12.8</td>\n",
       "      <td>16.5</td>\n",
       "      <td>48238</td>\n",
       "      <td>10.0</td>\n",
       "      <td>1002</td>\n",
       "      <td>Oakman Blvd Community</td>\n",
       "      <td>7.0</td>\n",
       "      <td>-83.145182</td>\n",
       "      <td>42.381070</td>\n",
       "      <td>7152</td>\n",
       "      <td>Dec</td>\n",
       "      <td>23</td>\n",
       "      <td>Tue</td>\n",
       "    </tr>\n",
       "    <tr>\n",
       "      <th>324359</th>\n",
       "      <td>243663894</td>\n",
       "      <td>202436603894</td>\n",
       "      <td>Devonshire Rd &amp; Bremen St</td>\n",
       "      <td>W911</td>\n",
       "      <td>VERIFIED ALR / PERSON W/O CODE</td>\n",
       "      <td>VERALRM</td>\n",
       "      <td>2</td>\n",
       "      <td>5PCT</td>\n",
       "      <td>805020</td>\n",
       "      <td>2024-12-31 23:54:21+00:00</td>\n",
       "      <td>1.3</td>\n",
       "      <td>16.4</td>\n",
       "      <td>7.5</td>\n",
       "      <td>15.5</td>\n",
       "      <td>37.7</td>\n",
       "      <td>53.1</td>\n",
       "      <td>48224</td>\n",
       "      <td>5.0</td>\n",
       "      <td>506</td>\n",
       "      <td>Morningside</td>\n",
       "      <td>4.0</td>\n",
       "      <td>-82.937617</td>\n",
       "      <td>42.395078</td>\n",
       "      <td>7150</td>\n",
       "      <td>Dec</td>\n",
       "      <td>23</td>\n",
       "      <td>Tue</td>\n",
       "    </tr>\n",
       "    <tr>\n",
       "      <th>324360</th>\n",
       "      <td>243663899</td>\n",
       "      <td>202436603899</td>\n",
       "      <td>Grand River Ave &amp; Mettetal St</td>\n",
       "      <td>W911</td>\n",
       "      <td>UNKNOWN PROBLEM</td>\n",
       "      <td>UNKPROB</td>\n",
       "      <td>2</td>\n",
       "      <td>8PCT</td>\n",
       "      <td>843020</td>\n",
       "      <td>2024-12-31 23:55:40+00:00</td>\n",
       "      <td>0.8</td>\n",
       "      <td>35.2</td>\n",
       "      <td>12.0</td>\n",
       "      <td>32.0</td>\n",
       "      <td>48.2</td>\n",
       "      <td>80.1</td>\n",
       "      <td>48227</td>\n",
       "      <td>8.0</td>\n",
       "      <td>814</td>\n",
       "      <td>Grand River-St Marys</td>\n",
       "      <td>1.0</td>\n",
       "      <td>-83.207222</td>\n",
       "      <td>42.396238</td>\n",
       "      <td>7148</td>\n",
       "      <td>Dec</td>\n",
       "      <td>23</td>\n",
       "      <td>Tue</td>\n",
       "    </tr>\n",
       "    <tr>\n",
       "      <th>324361</th>\n",
       "      <td>243663904</td>\n",
       "      <td>202436603904</td>\n",
       "      <td>Conant St &amp; E Nevada St</td>\n",
       "      <td>PHONE</td>\n",
       "      <td>DISTURBANCE</td>\n",
       "      <td>DISTURB</td>\n",
       "      <td>3</td>\n",
       "      <td>11PCT</td>\n",
       "      <td>825030</td>\n",
       "      <td>2024-12-31 23:57:11+00:00</td>\n",
       "      <td>1.0</td>\n",
       "      <td>0.6</td>\n",
       "      <td>0.5</td>\n",
       "      <td>10.0</td>\n",
       "      <td>2.1</td>\n",
       "      <td>12.0</td>\n",
       "      <td>48212</td>\n",
       "      <td>11.0</td>\n",
       "      <td>1107</td>\n",
       "      <td>Conant Gardens</td>\n",
       "      <td>3.0</td>\n",
       "      <td>-83.068618</td>\n",
       "      <td>42.425842</td>\n",
       "      <td>7146</td>\n",
       "      <td>Dec</td>\n",
       "      <td>23</td>\n",
       "      <td>Tue</td>\n",
       "    </tr>\n",
       "    <tr>\n",
       "      <th>324362</th>\n",
       "      <td>243663911</td>\n",
       "      <td>202436603911</td>\n",
       "      <td>Central St &amp; W Lafayette Blvd</td>\n",
       "      <td>W911</td>\n",
       "      <td>DISTURBANCE</td>\n",
       "      <td>DISTURB</td>\n",
       "      <td>3</td>\n",
       "      <td>4PCT</td>\n",
       "      <td>825030</td>\n",
       "      <td>2024-12-31 23:59:08+00:00</td>\n",
       "      <td>1.8</td>\n",
       "      <td>53.7</td>\n",
       "      <td>3.4</td>\n",
       "      <td>31.6</td>\n",
       "      <td>59.4</td>\n",
       "      <td>91.0</td>\n",
       "      <td>48209</td>\n",
       "      <td>4.0</td>\n",
       "      <td>408</td>\n",
       "      <td>Central Southwest</td>\n",
       "      <td>6.0</td>\n",
       "      <td>-83.118439</td>\n",
       "      <td>42.303852</td>\n",
       "      <td>7145</td>\n",
       "      <td>Dec</td>\n",
       "      <td>23</td>\n",
       "      <td>Tue</td>\n",
       "    </tr>\n",
       "  </tbody>\n",
       "</table>\n",
       "<p>324363 rows × 27 columns</p>\n",
       "</div>"
      ],
      "text/plain": [
       "        incident_entry_id   incident_id              incident_location  \\\n",
       "0               240010058  202400100058          Lappin St & Hoover St   \n",
       "1               240010063  202400100063       Eaton St & Cloverlawn St   \n",
       "2               240010065  202400100065   E Lafayette St & Beaubien St   \n",
       "3               240010083  202400100083      Clarita St & Glenhurst St   \n",
       "4               240010084  202400100084      Petoskey Ave & Midland St   \n",
       "...                   ...           ...                            ...   \n",
       "324358          243663887  202436603887       Ewald Cir & Fullerton St   \n",
       "324359          243663894  202436603894      Devonshire Rd & Bremen St   \n",
       "324360          243663899  202436603899  Grand River Ave & Mettetal St   \n",
       "324361          243663904  202436603904        Conant St & E Nevada St   \n",
       "324362          243663911  202436603911  Central St & W Lafayette Blvd   \n",
       "\n",
       "       call_source                call_description  category priority  \\\n",
       "0            W911             FELONIOUS ASSAULT IP  FA IP           1   \n",
       "1            W911                   SHOTS FIRED IP  SHOTS IP        1   \n",
       "2            E911                      DISTURBANCE  DISTURB         1   \n",
       "3            W911                  UNKNOWN PROBLEM  UNKPROB         2   \n",
       "4            W911                   SHOTS FIRED IP  SHOTS IP        1   \n",
       "...            ...                             ...       ...      ...   \n",
       "324358       W911                  UNKNOWN PROBLEM  UNKPROB         2   \n",
       "324359       W911   VERIFIED ALR / PERSON W/O CODE  VERALRM         2   \n",
       "324360       W911                  UNKNOWN PROBLEM  UNKPROB         2   \n",
       "324361       PHONE                     DISTURBANCE  DISTURB         3   \n",
       "324362       W911                      DISTURBANCE  DISTURB         3   \n",
       "\n",
       "       call_group call_code                 called_at  intake_time  \\\n",
       "0          9PCT      343010 2024-01-01 05:02:10+00:00          1.1   \n",
       "1          10PCT     342010 2024-01-01 05:02:24+00:00          0.6   \n",
       "2          3PCT      GL8777 2024-01-01 05:02:30+00:00          1.3   \n",
       "3          8PCT      843020 2024-01-01 05:03:31+00:00          1.3   \n",
       "4          12PCT     342010 2024-01-01 05:03:38+00:00          0.9   \n",
       "...           ...       ...                       ...          ...   \n",
       "324358     10PCT     843020 2024-12-31 23:52:28+00:00          1.1   \n",
       "324359     5PCT      805020 2024-12-31 23:54:21+00:00          1.3   \n",
       "324360     8PCT      843020 2024-12-31 23:55:40+00:00          0.8   \n",
       "324361     11PCT     825030 2024-12-31 23:57:11+00:00          1.0   \n",
       "324362     4PCT      825030 2024-12-31 23:59:08+00:00          1.8   \n",
       "\n",
       "        dispatch_time  travel_time  on_scene_time  total_response_time  \\\n",
       "0                47.4          2.9            8.9                 52.6   \n",
       "1                67.8          3.4            9.5                 73.3   \n",
       "2                -0.1          0.0           21.8                  2.2   \n",
       "3               914.4          3.6            2.8                920.0   \n",
       "4                27.0          3.9           17.0                 32.4   \n",
       "...               ...          ...            ...                  ...   \n",
       "324358            5.4          5.7            3.7                 12.8   \n",
       "324359           16.4          7.5           15.5                 37.7   \n",
       "324360           35.2         12.0           32.0                 48.2   \n",
       "324361            0.6          0.5           10.0                  2.1   \n",
       "324362           53.7          3.4           31.6                 59.4   \n",
       "\n",
       "        total_time  zip_code  precinct scout_car_area      neighborhood_name  \\\n",
       "0             61.6     48205       9.0           901                 Pulaski   \n",
       "1             82.8     48238      10.0           1001              Chalfonte   \n",
       "2             24.0     48226       3.0           312               Greektown   \n",
       "3            922.8     48219       8.0           805        Seven Mile-Rouge   \n",
       "4             49.4     48238      12.0           1212        Pilgrim Village   \n",
       "...            ...       ...       ...            ...                    ...   \n",
       "324358        16.5     48238      10.0           1002  Oakman Blvd Community   \n",
       "324359        53.1     48224       5.0           506             Morningside   \n",
       "324360        80.1     48227       8.0           814    Grand River-St Marys   \n",
       "324361        12.0     48212      11.0           1107         Conant Gardens   \n",
       "324362        91.0     48209       4.0           408       Central Southwest   \n",
       "\n",
       "        council_district  longitude   latitude  ESRI_OID month  hour_of_day  \\\n",
       "0                    3.0 -83.004767  42.436478    331888   Jan            5   \n",
       "1                    2.0 -83.152276  42.398040    331886   Jan            5   \n",
       "2                    5.0 -83.042000  42.334006    331884   Jan            5   \n",
       "3                    1.0 -83.270550  42.427187    331882   Jan            5   \n",
       "4                    2.0 -83.139391  42.406320    331880   Jan            5   \n",
       "...                  ...        ...        ...       ...   ...          ...   \n",
       "324358               7.0 -83.145182  42.381070      7152   Dec           23   \n",
       "324359               4.0 -82.937617  42.395078      7150   Dec           23   \n",
       "324360               1.0 -83.207222  42.396238      7148   Dec           23   \n",
       "324361               3.0 -83.068618  42.425842      7146   Dec           23   \n",
       "324362               6.0 -83.118439  42.303852      7145   Dec           23   \n",
       "\n",
       "       Day_of_week  \n",
       "0              Mon  \n",
       "1              Mon  \n",
       "2              Mon  \n",
       "3              Mon  \n",
       "4              Mon  \n",
       "...            ...  \n",
       "324358         Tue  \n",
       "324359         Tue  \n",
       "324360         Tue  \n",
       "324361         Tue  \n",
       "324362         Tue  \n",
       "\n",
       "[324363 rows x 27 columns]"
      ]
     },
     "execution_count": 23,
     "metadata": {},
     "output_type": "execute_result"
    }
   ],
   "source": [
    "df_new_2024"
   ]
  },
  {
   "cell_type": "code",
   "execution_count": 24,
   "metadata": {},
   "outputs": [],
   "source": [
    "#calls_2024= df_2024.groupby('hour_of_day','Day_of_week')['incident_id'].count()\n",
    "data_hours_day= pd.pivot_table(df_new_2024, values='incident_entry_id', index='Day_of_week', columns='hour_of_day',aggfunc='count')\n",
    "\n",
    "days = [\t'Mon',\t'Tue',\t'Wed', 'Thu', 'Fri', 'Sat',\t'Sun']"
   ]
  },
  {
   "cell_type": "code",
   "execution_count": 25,
   "metadata": {},
   "outputs": [],
   "source": [
    "data_busy  = data_hours_day.reindex(days)"
   ]
  },
  {
   "cell_type": "code",
   "execution_count": 26,
   "metadata": {},
   "outputs": [
    {
     "data": {
      "text/plain": [
       "Text(0.5, 1.0, 'Total Incident By Hour')"
      ]
     },
     "execution_count": 26,
     "metadata": {},
     "output_type": "execute_result"
    },
    {
     "data": {
      "image/png": "[encoded data removed]",
      "text/plain": [
       "<Figure size 1800x600 with 2 Axes>"
      ]
     },
     "metadata": {},
     "output_type": "display_data"
    }
   ],
   "source": [
    "f, ax = plt.subplots(figsize=(18, 6))\n",
    "custom_pallette = ['#004445', '#279989', '#6BAA75','#9FD5B3','#A7AAA4','#C2C6A7','#feb70d']\n",
    "sns.heatmap(data_busy, annot=True, fmt=\"d\", linewidths=.5, ax=ax,cmap=custom_pallette[::-1])\n",
    "ax.set_title(\"Total Incident By Hour\",\n",
    "             fontdict = {'fontsize':15})"
   ]
  },
  {
   "cell_type": "markdown",
   "metadata": {},
   "source": [
    "#### A line chart showing average response times (total_response_time) by hour of the day."
   ]
  },
  {
   "cell_type": "markdown",
   "metadata": {},
   "source": []
  },
  {
   "cell_type": "code",
   "execution_count": 27,
   "metadata": {},
   "outputs": [
    {
     "data": {
      "text/html": [
       "<div>\n",
       "<style scoped>\n",
       "    .dataframe tbody tr th:only-of-type {\n",
       "        vertical-align: middle;\n",
       "    }\n",
       "\n",
       "    .dataframe tbody tr th {\n",
       "        vertical-align: top;\n",
       "    }\n",
       "\n",
       "    .dataframe thead th {\n",
       "        text-align: right;\n",
       "    }\n",
       "</style>\n",
       "<table border=\"1\" class=\"dataframe\">\n",
       "  <thead>\n",
       "    <tr style=\"text-align: right;\">\n",
       "      <th></th>\n",
       "      <th>incident_entry_id</th>\n",
       "      <th>incident_id</th>\n",
       "      <th>incident_location</th>\n",
       "      <th>call_source</th>\n",
       "      <th>call_description</th>\n",
       "      <th>category</th>\n",
       "      <th>priority</th>\n",
       "      <th>call_group</th>\n",
       "      <th>call_code</th>\n",
       "      <th>called_at</th>\n",
       "      <th>intake_time</th>\n",
       "      <th>dispatch_time</th>\n",
       "      <th>travel_time</th>\n",
       "      <th>on_scene_time</th>\n",
       "      <th>total_response_time</th>\n",
       "      <th>total_time</th>\n",
       "      <th>zip_code</th>\n",
       "      <th>precinct</th>\n",
       "      <th>scout_car_area</th>\n",
       "      <th>neighborhood_name</th>\n",
       "      <th>council_district</th>\n",
       "      <th>longitude</th>\n",
       "      <th>latitude</th>\n",
       "      <th>ESRI_OID</th>\n",
       "      <th>month</th>\n",
       "      <th>hour_of_day</th>\n",
       "      <th>Day_of_week</th>\n",
       "    </tr>\n",
       "  </thead>\n",
       "  <tbody>\n",
       "    <tr>\n",
       "      <th>0</th>\n",
       "      <td>240010058</td>\n",
       "      <td>202400100058</td>\n",
       "      <td>Lappin St &amp; Hoover St</td>\n",
       "      <td>W911</td>\n",
       "      <td>FELONIOUS ASSAULT IP</td>\n",
       "      <td>FA IP</td>\n",
       "      <td>1</td>\n",
       "      <td>9PCT</td>\n",
       "      <td>343010</td>\n",
       "      <td>2024-01-01 05:02:10+00:00</td>\n",
       "      <td>1.1</td>\n",
       "      <td>47.4</td>\n",
       "      <td>2.9</td>\n",
       "      <td>8.9</td>\n",
       "      <td>52.6</td>\n",
       "      <td>61.6</td>\n",
       "      <td>48205</td>\n",
       "      <td>9.0</td>\n",
       "      <td>901</td>\n",
       "      <td>Pulaski</td>\n",
       "      <td>3.0</td>\n",
       "      <td>-83.004767</td>\n",
       "      <td>42.436478</td>\n",
       "      <td>331888</td>\n",
       "      <td>Jan</td>\n",
       "      <td>5</td>\n",
       "      <td>Mon</td>\n",
       "    </tr>\n",
       "    <tr>\n",
       "      <th>1</th>\n",
       "      <td>240010063</td>\n",
       "      <td>202400100063</td>\n",
       "      <td>Eaton St &amp; Cloverlawn St</td>\n",
       "      <td>W911</td>\n",
       "      <td>SHOTS FIRED IP</td>\n",
       "      <td>SHOTS IP</td>\n",
       "      <td>1</td>\n",
       "      <td>10PCT</td>\n",
       "      <td>342010</td>\n",
       "      <td>2024-01-01 05:02:24+00:00</td>\n",
       "      <td>0.6</td>\n",
       "      <td>67.8</td>\n",
       "      <td>3.4</td>\n",
       "      <td>9.5</td>\n",
       "      <td>73.3</td>\n",
       "      <td>82.8</td>\n",
       "      <td>48238</td>\n",
       "      <td>10.0</td>\n",
       "      <td>1001</td>\n",
       "      <td>Chalfonte</td>\n",
       "      <td>2.0</td>\n",
       "      <td>-83.152276</td>\n",
       "      <td>42.398040</td>\n",
       "      <td>331886</td>\n",
       "      <td>Jan</td>\n",
       "      <td>5</td>\n",
       "      <td>Mon</td>\n",
       "    </tr>\n",
       "    <tr>\n",
       "      <th>2</th>\n",
       "      <td>240010065</td>\n",
       "      <td>202400100065</td>\n",
       "      <td>E Lafayette St &amp; Beaubien St</td>\n",
       "      <td>E911</td>\n",
       "      <td>DISTURBANCE</td>\n",
       "      <td>DISTURB</td>\n",
       "      <td>1</td>\n",
       "      <td>3PCT</td>\n",
       "      <td>GL8777</td>\n",
       "      <td>2024-01-01 05:02:30+00:00</td>\n",
       "      <td>1.3</td>\n",
       "      <td>-0.1</td>\n",
       "      <td>0.0</td>\n",
       "      <td>21.8</td>\n",
       "      <td>2.2</td>\n",
       "      <td>24.0</td>\n",
       "      <td>48226</td>\n",
       "      <td>3.0</td>\n",
       "      <td>312</td>\n",
       "      <td>Greektown</td>\n",
       "      <td>5.0</td>\n",
       "      <td>-83.042000</td>\n",
       "      <td>42.334006</td>\n",
       "      <td>331884</td>\n",
       "      <td>Jan</td>\n",
       "      <td>5</td>\n",
       "      <td>Mon</td>\n",
       "    </tr>\n",
       "    <tr>\n",
       "      <th>3</th>\n",
       "      <td>240010083</td>\n",
       "      <td>202400100083</td>\n",
       "      <td>Clarita St &amp; Glenhurst St</td>\n",
       "      <td>W911</td>\n",
       "      <td>UNKNOWN PROBLEM</td>\n",
       "      <td>UNKPROB</td>\n",
       "      <td>2</td>\n",
       "      <td>8PCT</td>\n",
       "      <td>843020</td>\n",
       "      <td>2024-01-01 05:03:31+00:00</td>\n",
       "      <td>1.3</td>\n",
       "      <td>914.4</td>\n",
       "      <td>3.6</td>\n",
       "      <td>2.8</td>\n",
       "      <td>920.0</td>\n",
       "      <td>922.8</td>\n",
       "      <td>48219</td>\n",
       "      <td>8.0</td>\n",
       "      <td>805</td>\n",
       "      <td>Seven Mile-Rouge</td>\n",
       "      <td>1.0</td>\n",
       "      <td>-83.270550</td>\n",
       "      <td>42.427187</td>\n",
       "      <td>331882</td>\n",
       "      <td>Jan</td>\n",
       "      <td>5</td>\n",
       "      <td>Mon</td>\n",
       "    </tr>\n",
       "    <tr>\n",
       "      <th>4</th>\n",
       "      <td>240010084</td>\n",
       "      <td>202400100084</td>\n",
       "      <td>Petoskey Ave &amp; Midland St</td>\n",
       "      <td>W911</td>\n",
       "      <td>SHOTS FIRED IP</td>\n",
       "      <td>SHOTS IP</td>\n",
       "      <td>1</td>\n",
       "      <td>12PCT</td>\n",
       "      <td>342010</td>\n",
       "      <td>2024-01-01 05:03:38+00:00</td>\n",
       "      <td>0.9</td>\n",
       "      <td>27.0</td>\n",
       "      <td>3.9</td>\n",
       "      <td>17.0</td>\n",
       "      <td>32.4</td>\n",
       "      <td>49.4</td>\n",
       "      <td>48238</td>\n",
       "      <td>12.0</td>\n",
       "      <td>1212</td>\n",
       "      <td>Pilgrim Village</td>\n",
       "      <td>2.0</td>\n",
       "      <td>-83.139391</td>\n",
       "      <td>42.406320</td>\n",
       "      <td>331880</td>\n",
       "      <td>Jan</td>\n",
       "      <td>5</td>\n",
       "      <td>Mon</td>\n",
       "    </tr>\n",
       "  </tbody>\n",
       "</table>\n",
       "</div>"
      ],
      "text/plain": [
       "   incident_entry_id   incident_id             incident_location call_source  \\\n",
       "0          240010058  202400100058         Lappin St & Hoover St       W911    \n",
       "1          240010063  202400100063      Eaton St & Cloverlawn St       W911    \n",
       "2          240010065  202400100065  E Lafayette St & Beaubien St       E911    \n",
       "3          240010083  202400100083     Clarita St & Glenhurst St       W911    \n",
       "4          240010084  202400100084     Petoskey Ave & Midland St       W911    \n",
       "\n",
       "       call_description  category priority call_group call_code  \\\n",
       "0  FELONIOUS ASSAULT IP  FA IP           1     9PCT      343010   \n",
       "1        SHOTS FIRED IP  SHOTS IP        1     10PCT     342010   \n",
       "2           DISTURBANCE  DISTURB         1     3PCT      GL8777   \n",
       "3       UNKNOWN PROBLEM  UNKPROB         2     8PCT      843020   \n",
       "4        SHOTS FIRED IP  SHOTS IP        1     12PCT     342010   \n",
       "\n",
       "                  called_at  intake_time  dispatch_time  travel_time  \\\n",
       "0 2024-01-01 05:02:10+00:00          1.1           47.4          2.9   \n",
       "1 2024-01-01 05:02:24+00:00          0.6           67.8          3.4   \n",
       "2 2024-01-01 05:02:30+00:00          1.3           -0.1          0.0   \n",
       "3 2024-01-01 05:03:31+00:00          1.3          914.4          3.6   \n",
       "4 2024-01-01 05:03:38+00:00          0.9           27.0          3.9   \n",
       "\n",
       "   on_scene_time  total_response_time  total_time  zip_code  precinct  \\\n",
       "0            8.9                 52.6        61.6     48205       9.0   \n",
       "1            9.5                 73.3        82.8     48238      10.0   \n",
       "2           21.8                  2.2        24.0     48226       3.0   \n",
       "3            2.8                920.0       922.8     48219       8.0   \n",
       "4           17.0                 32.4        49.4     48238      12.0   \n",
       "\n",
       "  scout_car_area neighborhood_name  council_district  longitude   latitude  \\\n",
       "0           901            Pulaski               3.0 -83.004767  42.436478   \n",
       "1           1001         Chalfonte               2.0 -83.152276  42.398040   \n",
       "2           312          Greektown               5.0 -83.042000  42.334006   \n",
       "3           805   Seven Mile-Rouge               1.0 -83.270550  42.427187   \n",
       "4           1212   Pilgrim Village               2.0 -83.139391  42.406320   \n",
       "\n",
       "   ESRI_OID month  hour_of_day Day_of_week  \n",
       "0    331888   Jan            5         Mon  \n",
       "1    331886   Jan            5         Mon  \n",
       "2    331884   Jan            5         Mon  \n",
       "3    331882   Jan            5         Mon  \n",
       "4    331880   Jan            5         Mon  "
      ]
     },
     "execution_count": 27,
     "metadata": {},
     "output_type": "execute_result"
    }
   ],
   "source": [
    "df_new_2024.head()"
   ]
  },
  {
   "cell_type": "markdown",
   "metadata": {},
   "source": []
  },
  {
   "cell_type": "code",
   "execution_count": 28,
   "metadata": {},
   "outputs": [],
   "source": [
    "data_total_response= pd.pivot_table(df_new_2024, values='total_response_time', index='hour_of_day', columns='Day_of_week',aggfunc='mean')\n",
    "\n"
   ]
  },
  {
   "cell_type": "code",
   "execution_count": 29,
   "metadata": {},
   "outputs": [],
   "source": [
    "df_response = data_total_response.reindex(columns=days)"
   ]
  },
  {
   "cell_type": "code",
   "execution_count": 30,
   "metadata": {},
   "outputs": [
    {
     "data": {
      "text/html": [
       "<div>\n",
       "<style scoped>\n",
       "    .dataframe tbody tr th:only-of-type {\n",
       "        vertical-align: middle;\n",
       "    }\n",
       "\n",
       "    .dataframe tbody tr th {\n",
       "        vertical-align: top;\n",
       "    }\n",
       "\n",
       "    .dataframe thead th {\n",
       "        text-align: right;\n",
       "    }\n",
       "</style>\n",
       "<table border=\"1\" class=\"dataframe\">\n",
       "  <thead>\n",
       "    <tr style=\"text-align: right;\">\n",
       "      <th>Day_of_week</th>\n",
       "      <th>Mon</th>\n",
       "      <th>Tue</th>\n",
       "      <th>Wed</th>\n",
       "      <th>Thu</th>\n",
       "      <th>Fri</th>\n",
       "      <th>Sat</th>\n",
       "      <th>Sun</th>\n",
       "    </tr>\n",
       "    <tr>\n",
       "      <th>hour_of_day</th>\n",
       "      <th></th>\n",
       "      <th></th>\n",
       "      <th></th>\n",
       "      <th></th>\n",
       "      <th></th>\n",
       "      <th></th>\n",
       "      <th></th>\n",
       "    </tr>\n",
       "  </thead>\n",
       "  <tbody>\n",
       "    <tr>\n",
       "      <th>0</th>\n",
       "      <td>45.323220</td>\n",
       "      <td>39.562627</td>\n",
       "      <td>38.362621</td>\n",
       "      <td>41.913083</td>\n",
       "      <td>40.432089</td>\n",
       "      <td>41.611102</td>\n",
       "      <td>46.149564</td>\n",
       "    </tr>\n",
       "    <tr>\n",
       "      <th>1</th>\n",
       "      <td>47.163259</td>\n",
       "      <td>42.009516</td>\n",
       "      <td>39.285286</td>\n",
       "      <td>38.502288</td>\n",
       "      <td>46.334688</td>\n",
       "      <td>44.305908</td>\n",
       "      <td>52.628759</td>\n",
       "    </tr>\n",
       "    <tr>\n",
       "      <th>2</th>\n",
       "      <td>51.864202</td>\n",
       "      <td>44.919804</td>\n",
       "      <td>42.203265</td>\n",
       "      <td>45.122172</td>\n",
       "      <td>47.896642</td>\n",
       "      <td>48.455197</td>\n",
       "      <td>57.102513</td>\n",
       "    </tr>\n",
       "    <tr>\n",
       "      <th>3</th>\n",
       "      <td>53.568047</td>\n",
       "      <td>44.286583</td>\n",
       "      <td>41.751415</td>\n",
       "      <td>41.181328</td>\n",
       "      <td>46.053913</td>\n",
       "      <td>45.508854</td>\n",
       "      <td>56.116160</td>\n",
       "    </tr>\n",
       "    <tr>\n",
       "      <th>4</th>\n",
       "      <td>43.037095</td>\n",
       "      <td>36.966208</td>\n",
       "      <td>37.003468</td>\n",
       "      <td>35.626384</td>\n",
       "      <td>42.514022</td>\n",
       "      <td>40.120429</td>\n",
       "      <td>51.219154</td>\n",
       "    </tr>\n",
       "    <tr>\n",
       "      <th>5</th>\n",
       "      <td>46.190043</td>\n",
       "      <td>30.466014</td>\n",
       "      <td>31.663155</td>\n",
       "      <td>33.782027</td>\n",
       "      <td>38.823670</td>\n",
       "      <td>40.304624</td>\n",
       "      <td>46.625383</td>\n",
       "    </tr>\n",
       "    <tr>\n",
       "      <th>6</th>\n",
       "      <td>42.828374</td>\n",
       "      <td>32.074300</td>\n",
       "      <td>30.238900</td>\n",
       "      <td>32.949822</td>\n",
       "      <td>35.649030</td>\n",
       "      <td>40.191030</td>\n",
       "      <td>49.766332</td>\n",
       "    </tr>\n",
       "    <tr>\n",
       "      <th>7</th>\n",
       "      <td>47.650037</td>\n",
       "      <td>28.009677</td>\n",
       "      <td>28.264003</td>\n",
       "      <td>30.382815</td>\n",
       "      <td>33.313691</td>\n",
       "      <td>41.181219</td>\n",
       "      <td>50.659532</td>\n",
       "    </tr>\n",
       "    <tr>\n",
       "      <th>8</th>\n",
       "      <td>46.329486</td>\n",
       "      <td>27.574052</td>\n",
       "      <td>29.493249</td>\n",
       "      <td>27.494630</td>\n",
       "      <td>34.819693</td>\n",
       "      <td>39.286993</td>\n",
       "      <td>48.113631</td>\n",
       "    </tr>\n",
       "    <tr>\n",
       "      <th>9</th>\n",
       "      <td>44.397283</td>\n",
       "      <td>26.837762</td>\n",
       "      <td>27.027027</td>\n",
       "      <td>29.063943</td>\n",
       "      <td>36.302007</td>\n",
       "      <td>36.673941</td>\n",
       "      <td>47.256464</td>\n",
       "    </tr>\n",
       "    <tr>\n",
       "      <th>10</th>\n",
       "      <td>47.411419</td>\n",
       "      <td>34.781430</td>\n",
       "      <td>35.426936</td>\n",
       "      <td>33.899764</td>\n",
       "      <td>34.316416</td>\n",
       "      <td>40.459719</td>\n",
       "      <td>43.756353</td>\n",
       "    </tr>\n",
       "    <tr>\n",
       "      <th>11</th>\n",
       "      <td>39.114391</td>\n",
       "      <td>35.235523</td>\n",
       "      <td>33.386696</td>\n",
       "      <td>36.500524</td>\n",
       "      <td>33.585205</td>\n",
       "      <td>32.917154</td>\n",
       "      <td>35.724346</td>\n",
       "    </tr>\n",
       "    <tr>\n",
       "      <th>12</th>\n",
       "      <td>32.940733</td>\n",
       "      <td>27.060555</td>\n",
       "      <td>26.963555</td>\n",
       "      <td>27.874125</td>\n",
       "      <td>26.090708</td>\n",
       "      <td>26.634452</td>\n",
       "      <td>28.633102</td>\n",
       "    </tr>\n",
       "    <tr>\n",
       "      <th>13</th>\n",
       "      <td>30.832669</td>\n",
       "      <td>27.930476</td>\n",
       "      <td>23.546539</td>\n",
       "      <td>24.149680</td>\n",
       "      <td>26.273454</td>\n",
       "      <td>22.079030</td>\n",
       "      <td>24.470576</td>\n",
       "    </tr>\n",
       "    <tr>\n",
       "      <th>14</th>\n",
       "      <td>35.968248</td>\n",
       "      <td>31.193330</td>\n",
       "      <td>27.354931</td>\n",
       "      <td>31.601079</td>\n",
       "      <td>30.243729</td>\n",
       "      <td>31.826150</td>\n",
       "      <td>29.420988</td>\n",
       "    </tr>\n",
       "    <tr>\n",
       "      <th>15</th>\n",
       "      <td>37.996293</td>\n",
       "      <td>33.894112</td>\n",
       "      <td>33.738167</td>\n",
       "      <td>36.480745</td>\n",
       "      <td>33.034185</td>\n",
       "      <td>36.278473</td>\n",
       "      <td>35.167871</td>\n",
       "    </tr>\n",
       "    <tr>\n",
       "      <th>16</th>\n",
       "      <td>41.561416</td>\n",
       "      <td>38.031277</td>\n",
       "      <td>36.347421</td>\n",
       "      <td>37.479719</td>\n",
       "      <td>39.117256</td>\n",
       "      <td>41.536500</td>\n",
       "      <td>39.269681</td>\n",
       "    </tr>\n",
       "    <tr>\n",
       "      <th>17</th>\n",
       "      <td>45.813896</td>\n",
       "      <td>37.488049</td>\n",
       "      <td>40.809104</td>\n",
       "      <td>41.629904</td>\n",
       "      <td>41.242035</td>\n",
       "      <td>44.780455</td>\n",
       "      <td>42.400187</td>\n",
       "    </tr>\n",
       "    <tr>\n",
       "      <th>18</th>\n",
       "      <td>48.711907</td>\n",
       "      <td>44.284084</td>\n",
       "      <td>42.031457</td>\n",
       "      <td>48.651298</td>\n",
       "      <td>46.528289</td>\n",
       "      <td>46.702023</td>\n",
       "      <td>46.451594</td>\n",
       "    </tr>\n",
       "    <tr>\n",
       "      <th>19</th>\n",
       "      <td>44.019695</td>\n",
       "      <td>39.243019</td>\n",
       "      <td>42.100249</td>\n",
       "      <td>42.780550</td>\n",
       "      <td>42.940726</td>\n",
       "      <td>42.800719</td>\n",
       "      <td>41.193488</td>\n",
       "    </tr>\n",
       "    <tr>\n",
       "      <th>20</th>\n",
       "      <td>35.664768</td>\n",
       "      <td>35.198964</td>\n",
       "      <td>34.733790</td>\n",
       "      <td>36.718560</td>\n",
       "      <td>35.161388</td>\n",
       "      <td>32.197770</td>\n",
       "      <td>34.125011</td>\n",
       "    </tr>\n",
       "    <tr>\n",
       "      <th>21</th>\n",
       "      <td>31.957861</td>\n",
       "      <td>35.591600</td>\n",
       "      <td>33.897387</td>\n",
       "      <td>34.257019</td>\n",
       "      <td>35.468358</td>\n",
       "      <td>32.035130</td>\n",
       "      <td>33.906292</td>\n",
       "    </tr>\n",
       "    <tr>\n",
       "      <th>22</th>\n",
       "      <td>38.796170</td>\n",
       "      <td>34.692329</td>\n",
       "      <td>36.187500</td>\n",
       "      <td>35.920828</td>\n",
       "      <td>35.848430</td>\n",
       "      <td>36.137088</td>\n",
       "      <td>36.230706</td>\n",
       "    </tr>\n",
       "    <tr>\n",
       "      <th>23</th>\n",
       "      <td>38.018455</td>\n",
       "      <td>38.281943</td>\n",
       "      <td>38.002757</td>\n",
       "      <td>39.575988</td>\n",
       "      <td>40.917568</td>\n",
       "      <td>41.010982</td>\n",
       "      <td>41.208237</td>\n",
       "    </tr>\n",
       "  </tbody>\n",
       "</table>\n",
       "</div>"
      ],
      "text/plain": [
       "Day_of_week        Mon        Tue        Wed        Thu        Fri        Sat  \\\n",
       "hour_of_day                                                                     \n",
       "0            45.323220  39.562627  38.362621  41.913083  40.432089  41.611102   \n",
       "1            47.163259  42.009516  39.285286  38.502288  46.334688  44.305908   \n",
       "2            51.864202  44.919804  42.203265  45.122172  47.896642  48.455197   \n",
       "3            53.568047  44.286583  41.751415  41.181328  46.053913  45.508854   \n",
       "4            43.037095  36.966208  37.003468  35.626384  42.514022  40.120429   \n",
       "5            46.190043  30.466014  31.663155  33.782027  38.823670  40.304624   \n",
       "6            42.828374  32.074300  30.238900  32.949822  35.649030  40.191030   \n",
       "7            47.650037  28.009677  28.264003  30.382815  33.313691  41.181219   \n",
       "8            46.329486  27.574052  29.493249  27.494630  34.819693  39.286993   \n",
       "9            44.397283  26.837762  27.027027  29.063943  36.302007  36.673941   \n",
       "10           47.411419  34.781430  35.426936  33.899764  34.316416  40.459719   \n",
       "11           39.114391  35.235523  33.386696  36.500524  33.585205  32.917154   \n",
       "12           32.940733  27.060555  26.963555  27.874125  26.090708  26.634452   \n",
       "13           30.832669  27.930476  23.546539  24.149680  26.273454  22.079030   \n",
       "14           35.968248  31.193330  27.354931  31.601079  30.243729  31.826150   \n",
       "15           37.996293  33.894112  33.738167  36.480745  33.034185  36.278473   \n",
       "16           41.561416  38.031277  36.347421  37.479719  39.117256  41.536500   \n",
       "17           45.813896  37.488049  40.809104  41.629904  41.242035  44.780455   \n",
       "18           48.711907  44.284084  42.031457  48.651298  46.528289  46.702023   \n",
       "19           44.019695  39.243019  42.100249  42.780550  42.940726  42.800719   \n",
       "20           35.664768  35.198964  34.733790  36.718560  35.161388  32.197770   \n",
       "21           31.957861  35.591600  33.897387  34.257019  35.468358  32.035130   \n",
       "22           38.796170  34.692329  36.187500  35.920828  35.848430  36.137088   \n",
       "23           38.018455  38.281943  38.002757  39.575988  40.917568  41.010982   \n",
       "\n",
       "Day_of_week        Sun  \n",
       "hour_of_day             \n",
       "0            46.149564  \n",
       "1            52.628759  \n",
       "2            57.102513  \n",
       "3            56.116160  \n",
       "4            51.219154  \n",
       "5            46.625383  \n",
       "6            49.766332  \n",
       "7            50.659532  \n",
       "8            48.113631  \n",
       "9            47.256464  \n",
       "10           43.756353  \n",
       "11           35.724346  \n",
       "12           28.633102  \n",
       "13           24.470576  \n",
       "14           29.420988  \n",
       "15           35.167871  \n",
       "16           39.269681  \n",
       "17           42.400187  \n",
       "18           46.451594  \n",
       "19           41.193488  \n",
       "20           34.125011  \n",
       "21           33.906292  \n",
       "22           36.230706  \n",
       "23           41.208237  "
      ]
     },
     "execution_count": 30,
     "metadata": {},
     "output_type": "execute_result"
    }
   ],
   "source": [
    "df_response"
   ]
  },
  {
   "cell_type": "code",
   "execution_count": 31,
   "metadata": {},
   "outputs": [
    {
     "data": {
      "text/plain": [
       "Text(0.5, 1.0, 'Average Response Times By Hour Of The Day')"
      ]
     },
     "execution_count": 31,
     "metadata": {},
     "output_type": "execute_result"
    },
    {
     "data": {
      "image/png": "[encoded data removed]",
      "text/plain": [
       "<Figure size 1800x600 with 1 Axes>"
      ]
     },
     "metadata": {},
     "output_type": "display_data"
    }
   ],
   "source": [
    "f, ax = plt.subplots(figsize=(18, 6))\n",
    "custom_pallette = ['#004445', '#279989', '#6BAA75','#9FD5B3','#A7AAA4','#C2C6A7','#feb70d',]\n",
    "sns.lineplot(df_response,  ax=ax, palette=custom_pallette,dashes= False)\n",
    "plt.xlim(0)\n",
    "ax.xaxis.set_major_locator(MultipleLocator(1))\n",
    "ax.yaxis.set_major_locator(MultipleLocator(3))\n",
    "ax.set_ylabel(\" Avg_total_response_time(min)\")\n",
    "ax.set_title(\"Average Response Times By Hour Of The Day\",\n",
    "             fontdict = {'fontsize':15})"
   ]
  },
  {
   "cell_type": "markdown",
   "metadata": {},
   "source": [
    "#####  the proportion of incidents by category (e.g., fire, medical, police)."
   ]
  },
  {
   "cell_type": "code",
   "execution_count": 33,
   "metadata": {},
   "outputs": [],
   "source": [
    "data_catagory = df_new_2024['category'].value_counts()\n"
   ]
  },
  {
   "cell_type": "code",
   "execution_count": 34,
   "metadata": {},
   "outputs": [],
   "source": [
    "data_catagory = pd.DataFrame(data_catagory).reset_index()\n",
    "data_catagory.columns = ['category', 'count']"
   ]
  },
  {
   "cell_type": "code",
   "execution_count": 35,
   "metadata": {},
   "outputs": [
    {
     "data": {
      "text/html": [
       "<div>\n",
       "<style scoped>\n",
       "    .dataframe tbody tr th:only-of-type {\n",
       "        vertical-align: middle;\n",
       "    }\n",
       "\n",
       "    .dataframe tbody tr th {\n",
       "        vertical-align: top;\n",
       "    }\n",
       "\n",
       "    .dataframe thead th {\n",
       "        text-align: right;\n",
       "    }\n",
       "</style>\n",
       "<table border=\"1\" class=\"dataframe\">\n",
       "  <thead>\n",
       "    <tr style=\"text-align: right;\">\n",
       "      <th></th>\n",
       "      <th>category</th>\n",
       "      <th>count</th>\n",
       "    </tr>\n",
       "  </thead>\n",
       "  <tbody>\n",
       "    <tr>\n",
       "      <th>0</th>\n",
       "      <td>DISTURB</td>\n",
       "      <td>67373</td>\n",
       "    </tr>\n",
       "    <tr>\n",
       "      <th>1</th>\n",
       "      <td>UNKPROB</td>\n",
       "      <td>31567</td>\n",
       "    </tr>\n",
       "    <tr>\n",
       "      <th>2</th>\n",
       "      <td>FA IP</td>\n",
       "      <td>18221</td>\n",
       "    </tr>\n",
       "    <tr>\n",
       "      <th>3</th>\n",
       "      <td>AB IP/JH</td>\n",
       "      <td>14138</td>\n",
       "    </tr>\n",
       "    <tr>\n",
       "      <th>4</th>\n",
       "      <td>DV A/B</td>\n",
       "      <td>13486</td>\n",
       "    </tr>\n",
       "    <tr>\n",
       "      <th>5</th>\n",
       "      <td>INVPERS</td>\n",
       "      <td>11491</td>\n",
       "    </tr>\n",
       "    <tr>\n",
       "      <th>6</th>\n",
       "      <td>ACCUNK</td>\n",
       "      <td>10725</td>\n",
       "    </tr>\n",
       "    <tr>\n",
       "      <th>7</th>\n",
       "      <td>HI1 I/P</td>\n",
       "      <td>6740</td>\n",
       "    </tr>\n",
       "    <tr>\n",
       "      <th>8</th>\n",
       "      <td>LARCENY</td>\n",
       "      <td>6630</td>\n",
       "    </tr>\n",
       "    <tr>\n",
       "      <th>9</th>\n",
       "      <td>WBC</td>\n",
       "      <td>6076</td>\n",
       "    </tr>\n",
       "    <tr>\n",
       "      <th>10</th>\n",
       "      <td>WEAPON</td>\n",
       "      <td>5979</td>\n",
       "    </tr>\n",
       "    <tr>\n",
       "      <th>11</th>\n",
       "      <td>VERALRM</td>\n",
       "      <td>5889</td>\n",
       "    </tr>\n",
       "    <tr>\n",
       "      <th>12</th>\n",
       "      <td>OD</td>\n",
       "      <td>5883</td>\n",
       "    </tr>\n",
       "    <tr>\n",
       "      <th>13</th>\n",
       "      <td>MNTLNARM</td>\n",
       "      <td>5669</td>\n",
       "    </tr>\n",
       "    <tr>\n",
       "      <th>14</th>\n",
       "      <td>ACCINJ</td>\n",
       "      <td>5061</td>\n",
       "    </tr>\n",
       "    <tr>\n",
       "      <th>15</th>\n",
       "      <td>INVAUTO</td>\n",
       "      <td>4667</td>\n",
       "    </tr>\n",
       "    <tr>\n",
       "      <th>16</th>\n",
       "      <td>MDPIP</td>\n",
       "      <td>4667</td>\n",
       "    </tr>\n",
       "    <tr>\n",
       "      <th>17</th>\n",
       "      <td>SHOTS IP</td>\n",
       "      <td>4450</td>\n",
       "    </tr>\n",
       "    <tr>\n",
       "      <th>18</th>\n",
       "      <td>VICANML</td>\n",
       "      <td>4384</td>\n",
       "    </tr>\n",
       "    <tr>\n",
       "      <th>19</th>\n",
       "      <td>RECAUTO</td>\n",
       "      <td>4127</td>\n",
       "    </tr>\n",
       "    <tr>\n",
       "      <th>20</th>\n",
       "      <td>MISSSER</td>\n",
       "      <td>3970</td>\n",
       "    </tr>\n",
       "    <tr>\n",
       "      <th>21</th>\n",
       "      <td>PARK</td>\n",
       "      <td>3695</td>\n",
       "    </tr>\n",
       "    <tr>\n",
       "      <th>22</th>\n",
       "      <td>MENTPPRS</td>\n",
       "      <td>3632</td>\n",
       "    </tr>\n",
       "    <tr>\n",
       "      <th>23</th>\n",
       "      <td>HRUNK</td>\n",
       "      <td>3567</td>\n",
       "    </tr>\n",
       "    <tr>\n",
       "      <th>24</th>\n",
       "      <td>ABUSE</td>\n",
       "      <td>3217</td>\n",
       "    </tr>\n",
       "  </tbody>\n",
       "</table>\n",
       "</div>"
      ],
      "text/plain": [
       "    category  count\n",
       "0   DISTURB   67373\n",
       "1   UNKPROB   31567\n",
       "2   FA IP     18221\n",
       "3   AB IP/JH  14138\n",
       "4   DV A/B    13486\n",
       "5   INVPERS   11491\n",
       "6   ACCUNK    10725\n",
       "7   HI1 I/P    6740\n",
       "8   LARCENY    6630\n",
       "9   WBC        6076\n",
       "10  WEAPON     5979\n",
       "11  VERALRM    5889\n",
       "12  OD         5883\n",
       "13  MNTLNARM   5669\n",
       "14  ACCINJ     5061\n",
       "15  INVAUTO    4667\n",
       "16  MDPIP      4667\n",
       "17  SHOTS IP   4450\n",
       "18  VICANML    4384\n",
       "19  RECAUTO    4127\n",
       "20  MISSSER    3970\n",
       "21  PARK       3695\n",
       "22  MENTPPRS   3632\n",
       "23  HRUNK      3567\n",
       "24  ABUSE      3217"
      ]
     },
     "execution_count": 35,
     "metadata": {},
     "output_type": "execute_result"
    }
   ],
   "source": [
    "data_catagory.head(25)"
   ]
  },
  {
   "cell_type": "code",
   "execution_count": 36,
   "metadata": {},
   "outputs": [
    {
     "data": {
      "text/plain": [
       "181"
      ]
     },
     "execution_count": 36,
     "metadata": {},
     "output_type": "execute_result"
    }
   ],
   "source": [
    "df_new_2024['category'].nunique()"
   ]
  },
  {
   "cell_type": "code",
   "execution_count": 37,
   "metadata": {},
   "outputs": [
    {
     "name": "stderr",
     "output_type": "stream",
     "text": [
      "C:\\Users\\manup\\AppData\\Local\\Temp\\ipykernel_21268\\3213572284.py:3: DeprecationWarning:\n",
      "\n",
      "DataFrameGroupBy.apply operated on the grouping columns. This behavior is deprecated, and in a future version of pandas the grouping columns will be excluded from the operation. Either pass `include_groups=False` to exclude the groupings or explicitly select the grouping columns after groupby to silence this warning.\n",
      "\n"
     ]
    }
   ],
   "source": [
    "group = df_new_2024.groupby('category')\n",
    "\n",
    "df2 = group.apply(lambda x: x['call_description'].unique())"
   ]
  },
  {
   "cell_type": "code",
   "execution_count": 38,
   "metadata": {},
   "outputs": [
    {
     "name": "stdout",
     "output_type": "stream",
     "text": [
      "category\n",
      "988OTHR                                    [988-SUICIDE INFO]\n",
      "988SUI                                      [988-SUICIDE I/P]\n",
      "AB                                      [ASSAULT AND BATTERY]\n",
      "AB IP/JH                          [ASSAULT AND BATTERY IP-JH]\n",
      "ABRPT                            [ASSAULT AND BATTERY REPORT]\n",
      "ABUSE                                  [CHILD /  ADULT ABUSE]\n",
      "ABUSERPT                         [CHILD / ADULT ABUSE REPORT]\n",
      "ACCINJ      [AUTO X - BLDG / DWELL, AUTO X OR PED X - INJU...\n",
      "ACCREPT                                       [AUTO X REPORT]\n",
      "ACCUNK                            [AUTO X UNK INJ / IMPAIRED]\n",
      "ACTVSHTR                         [ACTIVE SHOOTER/MASS ATTACK]\n",
      "AIDMOTOR    [AID MOTORIST CHILD LOCKED INSD, AID MOTORIST ...\n",
      "AIDMOTR                                   [AID MOTORIST MISC]\n",
      "ALRMALF                                   [ALARM MALFUNCTION]\n",
      "ALRUNK                                  [ALARM UNKNOWN CAUSE]\n",
      "ANMLCOMP                                   [ANIMAL COMPLAINT]\n",
      "ANMLFITE                                       [ANIMAL FIGHT]\n",
      "AO                                             [ASSIST OTHER]\n",
      "ARSNREPT                                       [ARSON REPORT]\n",
      "ARSON                                             [ARSON I/P]\n",
      "ASLT1                          [ASSAULT OR SEX ASSAULT DELTA]\n",
      "ASLT2                          [ASSAULT DANGEROUS OR SERIOUS]\n",
      "ASLT3                        [ASSAULT  NOT DANGEROUS OR PREV]\n",
      "ASSTPERS                                   [ASSIST PERSONNEL]\n",
      "ASTCITZ                                      [ASSIST CITIZEN]\n",
      "ATMALRM                                          [ATM  ALARM]\n",
      "ATVS                                    [ATV / RECKLESS ATVS]\n",
      "BANKALRM                                         [BANK ALARM]\n",
      "BBUGIP                                 [BURGLARY BUSINESS IP]\n",
      "BBURGJH                               [BURGLARY BUSINESS J/H]\n",
      "BBURGRPT                           [BURGLARY BUSINESS REPORT]\n",
      "BEAUTO                       [BREAKING AND ENTERING AUTO I/P]\n",
      "BEAUTORP                       [BREAKING & ENTERING AUTO RPT]\n",
      "BITE                             [POSS DANGEROUS ANIMAL BITE]\n",
      "BITE2                            [POSS DANGEROUS ANIMAL BITE]\n",
      "BITE3                        [NON RECENT OR SUPERFICIAL BITE]\n",
      "BKLG                            [BLOCK PARTY/LARGE GATHERING]\n",
      "BKPAR                           [BLOCK PARTY/LARGE GATHERING]\n",
      "BLEED2                                   [SERIOUS HEMORRHAGE]\n",
      "BMBTHRT                     [BOMB THREAT, BOMB THREAT REPORT]\n",
      "BURGALR                                      [HPPD BURG ALRM]\n",
      "BUSN                              [COMMERCIAL STRUCTURE FIRE]\n",
      "CRDAC1                       [WRKABLE ARRST/OBV OR EXP DEATH]\n",
      "CYBRTHRT                                      [CYBER THREATS]\n",
      "DDOT                                           [DDOT TROUBLE]\n",
      "DISTURB                                         [DISTURBANCE]\n",
      "DV A/B                    [DV A/B I/P-J/H, GL DV A/B I/P-J/H]\n",
      "DV AB RP                                         [DV A/B RPT]\n",
      "DV F/A R                                         [DV F/A RPT]\n",
      "ELEVTRAP                                [ELEVATOR ENTRAPMENT]\n",
      "ENTRY                                          [MT EMS-ENTRY]\n",
      "EVICT                                              [EVICTION]\n",
      "EXPLODE                                   [EXPLOSION NO FIRE]\n",
      "EXPLSION                                          [EXPLOSION]\n",
      "EXTIP                                          [EXTORTION IP]\n",
      "EXTJH                                [EXTORTION JH OR REPORT]\n",
      "FA IP       [FELONIOUS ASSAULT IP, DV F/A I/P-J/H, GL DV F...\n",
      "FA JH                                  [FELONIOUS ASSAULT JH]\n",
      "FA RPT                             [FELONIOUS ASSAULT REPORT]\n",
      "FELONY                                    [WNTD WRRNT FELONY]\n",
      "FIREALR                                          [FIRE ALARM]\n",
      "FLLW-UP                             [FOLLOW-UP INVESTIGATION]\n",
      "FNDPERS                                        [FOUND PERSON]\n",
      "FRAUDIP                                           [FRAUD I/P]\n",
      "FRAUDRPT                                       [FRAUD REPORT]\n",
      "GRASS                                           [GRASS  FIRE]\n",
      "GSW1                                  [SHOT OR STABBED DELTA]\n",
      "GSW2                          [SHOT STABBED UNK OR OBV DEATH]\n",
      "GSW3                              [PAST GUNSHOT OR STABBINIG]\n",
      "GSWCUT                          [SHOOTING/CUTTING/PENT WOUND]\n",
      "GSWRPT                        [SHOOTING/CUTTING/PENT WND RPT]\n",
      "HAZCON                                 [HAZARDOUS CONDITIONS]\n",
      "HI1 I/P                          [BURGLARY OCCUPIED RESD I/P]\n",
      "HI1 REPT                           [BURGLARY OCCUP RESD REPT]\n",
      "HI2IP                            [BURGLARY OCCUPANT AWAY I/P]\n",
      "HI2JH                            [BURGLARY OCCUPANT AWAY J/H]\n",
      "HI2RPT                            [BURGLARY RESIDENCE REPORT]\n",
      "HI3                                          [BURGLARY OTHER]\n",
      "HI3RPT                                [BURGLARY OTHER REPORT]\n",
      "HOLDPERS                                     [HOLDING PERSON]\n",
      "HOLDUP                                [HOLD UP ALARM AND MOW]\n",
      "HOMEALNE                              [CHILD(REN) HOME ALONE]\n",
      "HRINJ                               [AUTO X HIT & RUN W/ INJ]\n",
      "HRREPT                               [AUTO OR PED H&R REPORT]\n",
      "HRUNK                          [AUTO X HIT& RUN UNK INJURIES]\n",
      "INV KIDS                               [INVESTIGATE YOUTH(S)]\n",
      "INVAUTO                                    [INVESTIGATE AUTO]\n",
      "INVPERS                                  [INVESTIGATE PERSON]\n",
      "KIDNAP                                           [KIDNAPPING]\n",
      "KIDNAPRP                                  [KIDNAPPING REPORT]\n",
      "LARCENY                                  [LARCENY I/P OR J/H]\n",
      "LARCREPT                                     [LARCENY REPORT]\n",
      "LITTER                                [RUBBISH LITTERING I/P]\n",
      "LOSTPROP                                      [LOST PROPERTY]\n",
      "MAULING                        [ANIMAL BITES OR ATTACK DELTA]\n",
      "MDPIP                             [MALICIOUS DESTRUCTION I/P]\n",
      "MDPRPT                            [MALICIOUS DESTRUCTION RPT]\n",
      "MENTPPRS                                 [MENTAL NOT VIOLENT]\n",
      "MISC TRF                              [MISCELLANEOUS TRAFFIC]\n",
      "MISCACCD                             [MISCELLANEOUS ACCIDENT]\n",
      "MISCTRAF                              [MISCELLANEOUS TRAFFIC]\n",
      "MISDEMEA                             [WNTD WRRNT MISDEMEANOR]\n",
      "MISSRPT                                      [MISSING REPORT]\n",
      "MISSSER                                     [MISSING SERIOUS]\n",
      "MNTLARM                              [MENTAL VIOLENT - ARMED]\n",
      "MNTLNARM                           [MENTAL VIOLENT NOT ARMED]\n",
      "MOLEST                                          [MOLESTATION]\n",
      "MOLESTRP                                 [MOLESTATION REPORT]\n",
      "NARCIP                                        [NARCOTICS I/P]\n",
      "NARCRPT                                    [NARCOTICS REPORT]\n",
      "NOISE                                       [NOISE COMPLAINT]\n",
      "OD                      [ONE DOWN/DRUG OD, ONE DOWN/OVERDOSE]\n",
      "OOBVDEAD                               [DEAD PERSON OBSERVED]\n",
      "OSD STRU                        [OTHR OUTSIDE STRUCTURE FIRE]\n",
      "OTHERSEX                             [LEWD AND LASCIVIOUS IP]\n",
      "OVER1                                        [OVERDOSE DELTA]\n",
      "OVER2                        [OVERDOSE NT ALRT OR UNK STATUS]\n",
      "OVER3                                             [POISONING]\n",
      "OVR                      [ONE OVER THE WHEEL, OVER THE WHEEL]\n",
      "PANIC                                  [PANIC / DURESS ALARM]\n",
      "PARK                                      [PARKING COMPLAINT]\n",
      "PKCB                                         [CALL BACK DESK]\n",
      "PPOIP                                     [PPO VIOLATION I/P]\n",
      "PPOREPT                                [PPO VIOLATION REPORT]\n",
      "PROPDMG                        [PROPERTY DAMAGE NON-CRIMINAL]\n",
      "PRS WEAP    [DV PRS WITH A WEAP I/P-J/H, DV PRSN WITH WEAP...\n",
      "PSYCH1                                [SUICIDE ATTEMPT DELTA]\n",
      "PSYCH2                       [SUICIDE THREAT OR ABNORM BEHAV]\n",
      "Q BRD                                       [Q-LINE BOARDING]\n",
      "RACE                                   [DRAG RACE / DRIFTERS]\n",
      "RAIP                                   [ROBBERY ARMED IP-ANY]\n",
      "RAJH                            [ROBBERY ARMED JH-ANY WEAPON]\n",
      "RAPE                                          [RAPE IP OR JH]\n",
      "RAPERPT                                         [RAPE REPORT]\n",
      "RARPT                                  [ROBBERY ARMED REPORT]\n",
      "RECAUTO                                        [RECOVER AUTO]\n",
      "RECAUTOF                                [RECOVER AUTO FELONY]\n",
      "RECPROP                          [RECOVERED / FOUND PROPERTY]\n",
      "RESD                             [RESIDENTIAL STRUCTURE FIRE]\n",
      "RNAIP                                 [ROBBERY NOT ARMED I/P]\n",
      "RNAREPT                            [ROBBERY NOT ARMED REPORT]\n",
      "SCH J/H                            [SCHOOL THREATS J/H & RPT]\n",
      "SCRP IP                               [SCRAP STRIP  BLDG  IP]\n",
      "SCRP JH                                 [SCRAP STRIP BLDG JH]\n",
      "SENIOR                                [SENIOR CITIZEN ASSIST]\n",
      "SEXRPT         [LEWD AND LASCIVIOUS RPT, LEWD AND LASCIVIOUS]\n",
      "SHOTS IP                                     [SHOTS FIRED IP]\n",
      "SHOTS JH                          [SHOTS J/H, EVIDENCE, REPT]\n",
      "SHOTSPT     [SHOTSPOTTER, MULTI - SHOTSPOTTER, SINGLE - SH...\n",
      "SICK3                          [SICK NON PRIORITY COMPLAINTS]\n",
      "SMOKE                                   [SMOKE INVESTIGATION]\n",
      "SQDISTB                                [SQUATTER DISTURBANCE]\n",
      "SUICATT                            [ATTEMPTED SUICIDE REPORT]\n",
      "SUICIP                                          [SUICIDE I/P]\n",
      "SUICTHRT                                     [SUICIDE THREAT]\n",
      "SURV                                           [SURVEILLANCE]\n",
      "SUSPPACK                                 [SUSPICIOUS PACKAGE]\n",
      "THREATRP                                     [THREATS REPORT]\n",
      "TRAFF1                         [MAJOR TRAFFIC INCIDENT DELTA]\n",
      "TRAFF2                         [TRAFFIC INCIDENT W/ INJURIES]\n",
      "TRAFF3                              [TRAFFIC- MINOR INJURIES]\n",
      "TRAUM2                                     [SERIOUS INJURIES]\n",
      "TRF STOP                                       [TRAFFIC STOP]\n",
      "TROUBLE                                  [DPD DEMS DFD N TRO]\n",
      "UDAAIP                                             [UDAA I/P]\n",
      "UDAAREPT                                        [UDAA REPORT]\n",
      "UNCON2                       [FAINTING ALRT W/HX OR ABD PAIN]\n",
      "UNK1                         [LIFE STATUS QUESTIONABLE DELTA]\n",
      "UNKPROB                                     [UNKNOWN PROBLEM]\n",
      "UNKT                              [MEDICAL ALARM OR UNK PROB]\n",
      "VEH                                            [VEHICLE FIRE]\n",
      "VERALRM                      [VERIFIED ALR / PERSON W/O CODE]\n",
      "VICANML                                      [VICIOUS ANIMAL]\n",
      "VIPIP                                       [VIP THREATS I/P]\n",
      "VIPJH                             [VIP THREATS J/H OR REPORT]\n",
      "VRM                                [VERIFY RETURN OF MISSING]\n",
      "WBC                                        [WELL BEING CHECK]\n",
      "WEAPON                                   [PERSON WITH WEAPON]\n",
      "WIRES                                           [POWER LINES]\n",
      "WPNRPT      [PERSON W/ A WEAPON REPORT, PERSON W/  A WEAPO...\n",
      "YOUTH                          [YOUTH LOITERING/CONGREGATING]\n",
      "dtype: object\n"
     ]
    }
   ],
   "source": [
    "with pd.option_context('display.max_rows', 1000,):\n",
    "    print(df2)"
   ]
  },
  {
   "cell_type": "code",
   "execution_count": 52,
   "metadata": {},
   "outputs": [
    {
     "data": {
      "application/vnd.plotly.v1+json": {
       "config": {
        "plotlyServerURL": "https://plot.ly"
       },
       "data": [
        {
         "alignmentgroup": "True",
         "hovertemplate": "category=%{x}<br>count=%{y}<extra></extra>",
         "legendgroup": "",
         "marker": {
          "color": "#279989",
          "pattern": {
           "shape": ""
          }
         },
         "name": "",
         "offsetgroup": "",
         "orientation": "v",
         "showlegend": false,
         "textposition": "auto",
         "type": "bar",
         "x": [
          "DISTURB ",
          "UNKPROB ",
          "FA IP   ",
          "AB IP/JH",
          "DV A/B  ",
          "INVPERS ",
          "ACCUNK  ",
          "HI1 I/P ",
          "LARCENY ",
          "WBC     ",
          "WEAPON  ",
          "VERALRM ",
          "OD      ",
          "MNTLNARM",
          "ACCINJ  ",
          "INVAUTO ",
          "MDPIP   ",
          "SHOTS IP",
          "VICANML ",
          "RECAUTO "
         ],
         "xaxis": "x",
         "y": [
          67373,
          31567,
          18221,
          14138,
          13486,
          11491,
          10725,
          6740,
          6630,
          6076,
          5979,
          5889,
          5883,
          5669,
          5061,
          4667,
          4667,
          4450,
          4384,
          4127
         ],
         "yaxis": "y"
        }
       ],
       "layout": {
        "autosize": false,
        "barmode": "relative",
        "height": 600,
        "legend": {
         "tracegroupgap": 0
        },
        "template": {
         "data": {
          "bar": [
           {
            "error_x": {
             "color": "#2a3f5f"
            },
            "error_y": {
             "color": "#2a3f5f"
            },
            "marker": {
             "line": {
              "color": "#E5ECF6",
              "width": 0.5
             },
             "pattern": {
              "fillmode": "overlay",
              "size": 10,
              "solidity": 0.2
             }
            },
            "type": "bar"
           }
          ],
          "barpolar": [
           {
            "marker": {
             "line": {
              "color": "#E5ECF6",
              "width": 0.5
             },
             "pattern": {
              "fillmode": "overlay",
              "size": 10,
              "solidity": 0.2
             }
            },
            "type": "barpolar"
           }
          ],
          "carpet": [
           {
            "aaxis": {
             "endlinecolor": "#2a3f5f",
             "gridcolor": "white",
             "linecolor": "white",
             "minorgridcolor": "white",
             "startlinecolor": "#2a3f5f"
            },
            "baxis": {
             "endlinecolor": "#2a3f5f",
             "gridcolor": "white",
             "linecolor": "white",
             "minorgridcolor": "white",
             "startlinecolor": "#2a3f5f"
            },
            "type": "carpet"
           }
          ],
          "choropleth": [
           {
            "colorbar": {
             "outlinewidth": 0,
             "ticks": ""
            },
            "type": "choropleth"
           }
          ],
          "contour": [
           {
            "colorbar": {
             "outlinewidth": 0,
             "ticks": ""
            },
            "colorscale": [
             [
              0,
              "#0d0887"
             ],
             [
              0.1111111111111111,
              "#46039f"
             ],
             [
              0.2222222222222222,
              "#7201a8"
             ],
             [
              0.3333333333333333,
              "#9c179e"
             ],
             [
              0.4444444444444444,
              "#bd3786"
             ],
             [
              0.5555555555555556,
              "#d8576b"
             ],
             [
              0.6666666666666666,
              "#ed7953"
             ],
             [
              0.7777777777777778,
              "#fb9f3a"
             ],
             [
              0.8888888888888888,
              "#fdca26"
             ],
             [
              1,
              "#f0f921"
             ]
            ],
            "type": "contour"
           }
          ],
          "contourcarpet": [
           {
            "colorbar": {
             "outlinewidth": 0,
             "ticks": ""
            },
            "type": "contourcarpet"
           }
          ],
          "heatmap": [
           {
            "colorbar": {
             "outlinewidth": 0,
             "ticks": ""
            },
            "colorscale": [
             [
              0,
              "#0d0887"
             ],
             [
              0.1111111111111111,
              "#46039f"
             ],
             [
              0.2222222222222222,
              "#7201a8"
             ],
             [
              0.3333333333333333,
              "#9c179e"
             ],
             [
              0.4444444444444444,
              "#bd3786"
             ],
             [
              0.5555555555555556,
              "#d8576b"
             ],
             [
              0.6666666666666666,
              "#ed7953"
             ],
             [
              0.7777777777777778,
              "#fb9f3a"
             ],
             [
              0.8888888888888888,
              "#fdca26"
             ],
             [
              1,
              "#f0f921"
             ]
            ],
            "type": "heatmap"
           }
          ],
          "heatmapgl": [
           {
            "colorbar": {
             "outlinewidth": 0,
             "ticks": ""
            },
            "colorscale": [
             [
              0,
              "#0d0887"
             ],
             [
              0.1111111111111111,
              "#46039f"
             ],
             [
              0.2222222222222222,
              "#7201a8"
             ],
             [
              0.3333333333333333,
              "#9c179e"
             ],
             [
              0.4444444444444444,
              "#bd3786"
             ],
             [
              0.5555555555555556,
              "#d8576b"
             ],
             [
              0.6666666666666666,
              "#ed7953"
             ],
             [
              0.7777777777777778,
              "#fb9f3a"
             ],
             [
              0.8888888888888888,
              "#fdca26"
             ],
             [
              1,
              "#f0f921"
             ]
            ],
            "type": "heatmapgl"
           }
          ],
          "histogram": [
           {
            "marker": {
             "pattern": {
              "fillmode": "overlay",
              "size": 10,
              "solidity": 0.2
             }
            },
            "type": "histogram"
           }
          ],
          "histogram2d": [
           {
            "colorbar": {
             "outlinewidth": 0,
             "ticks": ""
            },
            "colorscale": [
             [
              0,
              "#0d0887"
             ],
             [
              0.1111111111111111,
              "#46039f"
             ],
             [
              0.2222222222222222,
              "#7201a8"
             ],
             [
              0.3333333333333333,
              "#9c179e"
             ],
             [
              0.4444444444444444,
              "#bd3786"
             ],
             [
              0.5555555555555556,
              "#d8576b"
             ],
             [
              0.6666666666666666,
              "#ed7953"
             ],
             [
              0.7777777777777778,
              "#fb9f3a"
             ],
             [
              0.8888888888888888,
              "#fdca26"
             ],
             [
              1,
              "#f0f921"
             ]
            ],
            "type": "histogram2d"
           }
          ],
          "histogram2dcontour": [
           {
            "colorbar": {
             "outlinewidth": 0,
             "ticks": ""
            },
            "colorscale": [
             [
              0,
              "#0d0887"
             ],
             [
              0.1111111111111111,
              "#46039f"
             ],
             [
              0.2222222222222222,
              "#7201a8"
             ],
             [
              0.3333333333333333,
              "#9c179e"
             ],
             [
              0.4444444444444444,
              "#bd3786"
             ],
             [
              0.5555555555555556,
              "#d8576b"
             ],
             [
              0.6666666666666666,
              "#ed7953"
             ],
             [
              0.7777777777777778,
              "#fb9f3a"
             ],
             [
              0.8888888888888888,
              "#fdca26"
             ],
             [
              1,
              "#f0f921"
             ]
            ],
            "type": "histogram2dcontour"
           }
          ],
          "mesh3d": [
           {
            "colorbar": {
             "outlinewidth": 0,
             "ticks": ""
            },
            "type": "mesh3d"
           }
          ],
          "parcoords": [
           {
            "line": {
             "colorbar": {
              "outlinewidth": 0,
              "ticks": ""
             }
            },
            "type": "parcoords"
           }
          ],
          "pie": [
           {
            "automargin": true,
            "type": "pie"
           }
          ],
          "scatter": [
           {
            "fillpattern": {
             "fillmode": "overlay",
             "size": 10,
             "solidity": 0.2
            },
            "type": "scatter"
           }
          ],
          "scatter3d": [
           {
            "line": {
             "colorbar": {
              "outlinewidth": 0,
              "ticks": ""
             }
            },
            "marker": {
             "colorbar": {
              "outlinewidth": 0,
              "ticks": ""
             }
            },
            "type": "scatter3d"
           }
          ],
          "scattercarpet": [
           {
            "marker": {
             "colorbar": {
              "outlinewidth": 0,
              "ticks": ""
             }
            },
            "type": "scattercarpet"
           }
          ],
          "scattergeo": [
           {
            "marker": {
             "colorbar": {
              "outlinewidth": 0,
              "ticks": ""
             }
            },
            "type": "scattergeo"
           }
          ],
          "scattergl": [
           {
            "marker": {
             "colorbar": {
              "outlinewidth": 0,
              "ticks": ""
             }
            },
            "type": "scattergl"
           }
          ],
          "scattermapbox": [
           {
            "marker": {
             "colorbar": {
              "outlinewidth": 0,
              "ticks": ""
             }
            },
            "type": "scattermapbox"
           }
          ],
          "scatterpolar": [
           {
            "marker": {
             "colorbar": {
              "outlinewidth": 0,
              "ticks": ""
             }
            },
            "type": "scatterpolar"
           }
          ],
          "scatterpolargl": [
           {
            "marker": {
             "colorbar": {
              "outlinewidth": 0,
              "ticks": ""
             }
            },
            "type": "scatterpolargl"
           }
          ],
          "scatterternary": [
           {
            "marker": {
             "colorbar": {
              "outlinewidth": 0,
              "ticks": ""
             }
            },
            "type": "scatterternary"
           }
          ],
          "surface": [
           {
            "colorbar": {
             "outlinewidth": 0,
             "ticks": ""
            },
            "colorscale": [
             [
              0,
              "#0d0887"
             ],
             [
              0.1111111111111111,
              "#46039f"
             ],
             [
              0.2222222222222222,
              "#7201a8"
             ],
             [
              0.3333333333333333,
              "#9c179e"
             ],
             [
              0.4444444444444444,
              "#bd3786"
             ],
             [
              0.5555555555555556,
              "#d8576b"
             ],
             [
              0.6666666666666666,
              "#ed7953"
             ],
             [
              0.7777777777777778,
              "#fb9f3a"
             ],
             [
              0.8888888888888888,
              "#fdca26"
             ],
             [
              1,
              "#f0f921"
             ]
            ],
            "type": "surface"
           }
          ],
          "table": [
           {
            "cells": {
             "fill": {
              "color": "#EBF0F8"
             },
             "line": {
              "color": "white"
             }
            },
            "header": {
             "fill": {
              "color": "#C8D4E3"
             },
             "line": {
              "color": "white"
             }
            },
            "type": "table"
           }
          ]
         },
         "layout": {
          "annotationdefaults": {
           "arrowcolor": "#2a3f5f",
           "arrowhead": 0,
           "arrowwidth": 1
          },
          "autotypenumbers": "strict",
          "coloraxis": {
           "colorbar": {
            "outlinewidth": 0,
            "ticks": ""
           }
          },
          "colorscale": {
           "diverging": [
            [
             0,
             "#8e0152"
            ],
            [
             0.1,
             "#c51b7d"
            ],
            [
             0.2,
             "#de77ae"
            ],
            [
             0.3,
             "#f1b6da"
            ],
            [
             0.4,
             "#fde0ef"
            ],
            [
             0.5,
             "#f7f7f7"
            ],
            [
             0.6,
             "#e6f5d0"
            ],
            [
             0.7,
             "#b8e186"
            ],
            [
             0.8,
             "#7fbc41"
            ],
            [
             0.9,
             "#4d9221"
            ],
            [
             1,
             "#276419"
            ]
           ],
           "sequential": [
            [
             0,
             "#0d0887"
            ],
            [
             0.1111111111111111,
             "#46039f"
            ],
            [
             0.2222222222222222,
             "#7201a8"
            ],
            [
             0.3333333333333333,
             "#9c179e"
            ],
            [
             0.4444444444444444,
             "#bd3786"
            ],
            [
             0.5555555555555556,
             "#d8576b"
            ],
            [
             0.6666666666666666,
             "#ed7953"
            ],
            [
             0.7777777777777778,
             "#fb9f3a"
            ],
            [
             0.8888888888888888,
             "#fdca26"
            ],
            [
             1,
             "#f0f921"
            ]
           ],
           "sequentialminus": [
            [
             0,
             "#0d0887"
            ],
            [
             0.1111111111111111,
             "#46039f"
            ],
            [
             0.2222222222222222,
             "#7201a8"
            ],
            [
             0.3333333333333333,
             "#9c179e"
            ],
            [
             0.4444444444444444,
             "#bd3786"
            ],
            [
             0.5555555555555556,
             "#d8576b"
            ],
            [
             0.6666666666666666,
             "#ed7953"
            ],
            [
             0.7777777777777778,
             "#fb9f3a"
            ],
            [
             0.8888888888888888,
             "#fdca26"
            ],
            [
             1,
             "#f0f921"
            ]
           ]
          },
          "colorway": [
           "#636efa",
           "#EF553B",
           "#00cc96",
           "#ab63fa",
           "#FFA15A",
           "#19d3f3",
           "#FF6692",
           "#B6E880",
           "#FF97FF",
           "#FECB52"
          ],
          "font": {
           "color": "#2a3f5f"
          },
          "geo": {
           "bgcolor": "white",
           "lakecolor": "white",
           "landcolor": "#E5ECF6",
           "showlakes": true,
           "showland": true,
           "subunitcolor": "white"
          },
          "hoverlabel": {
           "align": "left"
          },
          "hovermode": "closest",
          "mapbox": {
           "style": "light"
          },
          "paper_bgcolor": "white",
          "plot_bgcolor": "#E5ECF6",
          "polar": {
           "angularaxis": {
            "gridcolor": "white",
            "linecolor": "white",
            "ticks": ""
           },
           "bgcolor": "#E5ECF6",
           "radialaxis": {
            "gridcolor": "white",
            "linecolor": "white",
            "ticks": ""
           }
          },
          "scene": {
           "xaxis": {
            "backgroundcolor": "#E5ECF6",
            "gridcolor": "white",
            "gridwidth": 2,
            "linecolor": "white",
            "showbackground": true,
            "ticks": "",
            "zerolinecolor": "white"
           },
           "yaxis": {
            "backgroundcolor": "#E5ECF6",
            "gridcolor": "white",
            "gridwidth": 2,
            "linecolor": "white",
            "showbackground": true,
            "ticks": "",
            "zerolinecolor": "white"
           },
           "zaxis": {
            "backgroundcolor": "#E5ECF6",
            "gridcolor": "white",
            "gridwidth": 2,
            "linecolor": "white",
            "showbackground": true,
            "ticks": "",
            "zerolinecolor": "white"
           }
          },
          "shapedefaults": {
           "line": {
            "color": "#2a3f5f"
           }
          },
          "ternary": {
           "aaxis": {
            "gridcolor": "white",
            "linecolor": "white",
            "ticks": ""
           },
           "baxis": {
            "gridcolor": "white",
            "linecolor": "white",
            "ticks": ""
           },
           "bgcolor": "#E5ECF6",
           "caxis": {
            "gridcolor": "white",
            "linecolor": "white",
            "ticks": ""
           }
          },
          "title": {
           "x": 0.05
          },
          "xaxis": {
           "automargin": true,
           "gridcolor": "white",
           "linecolor": "white",
           "ticks": "",
           "title": {
            "standoff": 15
           },
           "zerolinecolor": "white",
           "zerolinewidth": 2
          },
          "yaxis": {
           "automargin": true,
           "gridcolor": "white",
           "linecolor": "white",
           "ticks": "",
           "title": {
            "standoff": 15
           },
           "zerolinecolor": "white",
           "zerolinewidth": 2
          }
         }
        },
        "title": {
         "text": "<b>The Proportion Of Incidents By Category</b>",
         "x": 0.5
        },
        "width": 800,
        "xaxis": {
         "anchor": "y",
         "domain": [
          0,
          1
         ],
         "title": {
          "text": "category"
         }
        },
        "yaxis": {
         "anchor": "x",
         "domain": [
          0,
          1
         ],
         "title": {
          "text": "count"
         }
        }
       }
      }
     },
     "metadata": {},
     "output_type": "display_data"
    }
   ],
   "source": [
    "fig = px.bar(data_catagory.nlargest(20,'count'), x='category', y='count',title='<b>The Proportion Of Incidents By Category</b>')\n",
    "fig.update_traces(marker_color=\"#279989\")\n",
    "fig.update_layout( title_x=0.5,\n",
    "                  autosize=False,\n",
    "                  width=800,\n",
    "                  height=600)\n",
    "fig.show()"
   ]
  },
  {
   "cell_type": "code",
   "execution_count": null,
   "metadata": {},
   "outputs": [],
   "source": []
  }
 ],
 "metadata": {
  "kernelspec": {
   "display_name": ".venv_portfolio",
   "language": "python",
   "name": "python3"
  },
  "language_info": {
   "codemirror_mode": {
    "name": "ipython",
    "version": 3
   },
   "file_extension": ".py",
   "mimetype": "text/x-python",
   "name": "python",
   "nbconvert_exporter": "python",
   "pygments_lexer": "ipython3",
   "version": "3.13.0"
  }
 },
 "nbformat": 4,
 "nbformat_minor": 2
}
