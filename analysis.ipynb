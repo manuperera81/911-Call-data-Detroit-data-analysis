{
 "cells": [
  {
   "cell_type": "markdown",
   "metadata": {},
   "source": [
    "## Analysis\n"
   ]
  },
  {
   "cell_type": "code",
   "execution_count": 1,
   "metadata": {},
   "outputs": [],
   "source": [
    "import numpy as np \n",
    "import pandas as pd \n",
    "import matplotlib.pyplot as plt\n",
    "import seaborn as sns\n",
    "%matplotlib inline\n",
    "import warnings\n",
    "import datetime as dt\n",
    "import plotly.express as px\n",
    "import plotly.graph_objs as go\n",
    "import os\n",
    "import nbformat\n",
    "# ve\n",
    "import plotly.graph_objects as go\n",
    "import plotly.io as pio\n",
    "#show all the columns on output\n",
    "pd.set_option('display.max.columns',999)"
   ]
  },
  {
   "cell_type": "code",
   "execution_count": 2,
   "metadata": {},
   "outputs": [],
   "source": [
    "df_2022 = pd.read_csv('./cleaned_data/Police_Serviced_911_Calls_cleaned_2022.csv')\n",
    "df_2023 = pd.read_csv('./cleaned_data/Police_Serviced_911_Calls_cleaned_2023.csv')\n",
    "df_2024 = pd.read_csv('./cleaned_data/Police_Serviced_911_Calls_cleaned_2024.csv')\n"
   ]
  },
  {
   "cell_type": "code",
   "execution_count": 3,
   "metadata": {},
   "outputs": [],
   "source": [
    "combined_df = pd.concat([df_2022, df_2023, df_2024], ignore_index=True)\n"
   ]
  },
  {
   "cell_type": "code",
   "execution_count": 4,
   "metadata": {},
   "outputs": [
    {
     "data": {
      "text/html": [
       "<div>\n",
       "<style scoped>\n",
       "    .dataframe tbody tr th:only-of-type {\n",
       "        vertical-align: middle;\n",
       "    }\n",
       "\n",
       "    .dataframe tbody tr th {\n",
       "        vertical-align: top;\n",
       "    }\n",
       "\n",
       "    .dataframe thead th {\n",
       "        text-align: right;\n",
       "    }\n",
       "</style>\n",
       "<table border=\"1\" class=\"dataframe\">\n",
       "  <thead>\n",
       "    <tr style=\"text-align: right;\">\n",
       "      <th></th>\n",
       "      <th>Unnamed: 0</th>\n",
       "      <th>incident_id</th>\n",
       "      <th>incident_location</th>\n",
       "      <th>call_source</th>\n",
       "      <th>call_description</th>\n",
       "      <th>category</th>\n",
       "      <th>priority</th>\n",
       "      <th>call_group</th>\n",
       "      <th>call_code</th>\n",
       "      <th>called_at</th>\n",
       "      <th>intake_time</th>\n",
       "      <th>dispatch_time</th>\n",
       "      <th>travel_time</th>\n",
       "      <th>on_scene_time</th>\n",
       "      <th>total_response_time</th>\n",
       "      <th>total_time</th>\n",
       "      <th>zip_code</th>\n",
       "      <th>precinct</th>\n",
       "      <th>scout_car_area</th>\n",
       "      <th>neighborhood_name</th>\n",
       "      <th>council_district</th>\n",
       "      <th>longitude</th>\n",
       "      <th>latitude</th>\n",
       "      <th>ESRI_OID</th>\n",
       "      <th>incident_entry_id</th>\n",
       "    </tr>\n",
       "  </thead>\n",
       "  <tbody>\n",
       "    <tr>\n",
       "      <th>0</th>\n",
       "      <td>297416</td>\n",
       "      <td>202200100010</td>\n",
       "      <td>King St &amp; Oakland St</td>\n",
       "      <td>W911</td>\n",
       "      <td>MALICIOUS DESTRUCTION I/P</td>\n",
       "      <td>MDPIP</td>\n",
       "      <td>3</td>\n",
       "      <td>3PCT</td>\n",
       "      <td>381030</td>\n",
       "      <td>2022-01-01 05:04:20+00:00</td>\n",
       "      <td>0.8</td>\n",
       "      <td>55.2</td>\n",
       "      <td>8.5</td>\n",
       "      <td>75.8</td>\n",
       "      <td>65.2</td>\n",
       "      <td>140.9</td>\n",
       "      <td>48211</td>\n",
       "      <td>3.0</td>\n",
       "      <td>302</td>\n",
       "      <td>North End</td>\n",
       "      <td>5.0</td>\n",
       "      <td>-83.071164</td>\n",
       "      <td>42.383712</td>\n",
       "      <td>811061</td>\n",
       "      <td>NaN</td>\n",
       "    </tr>\n",
       "    <tr>\n",
       "      <th>1</th>\n",
       "      <td>297415</td>\n",
       "      <td>202200100021</td>\n",
       "      <td>Holcomb St &amp; E Jefferson Ave</td>\n",
       "      <td>W911</td>\n",
       "      <td>SHOTS FIRED IP</td>\n",
       "      <td>SHOTS IP</td>\n",
       "      <td>1</td>\n",
       "      <td>7PCT</td>\n",
       "      <td>342010</td>\n",
       "      <td>2022-01-01 05:06:56+00:00</td>\n",
       "      <td>0.7</td>\n",
       "      <td>28.3</td>\n",
       "      <td>8.7</td>\n",
       "      <td>5.3</td>\n",
       "      <td>37.7</td>\n",
       "      <td>43.0</td>\n",
       "      <td>48214</td>\n",
       "      <td>7.0</td>\n",
       "      <td>711</td>\n",
       "      <td>Gold Coast</td>\n",
       "      <td>5.0</td>\n",
       "      <td>-82.986218</td>\n",
       "      <td>42.357555</td>\n",
       "      <td>811060</td>\n",
       "      <td>NaN</td>\n",
       "    </tr>\n",
       "    <tr>\n",
       "      <th>2</th>\n",
       "      <td>297414</td>\n",
       "      <td>202200100030</td>\n",
       "      <td>Strathmoor St &amp; Midland St</td>\n",
       "      <td>E911</td>\n",
       "      <td>DISTURBANCE</td>\n",
       "      <td>DISTURB</td>\n",
       "      <td>3</td>\n",
       "      <td>2PCT</td>\n",
       "      <td>825030</td>\n",
       "      <td>2022-01-01 05:10:27+00:00</td>\n",
       "      <td>1.9</td>\n",
       "      <td>80.2</td>\n",
       "      <td>5.4</td>\n",
       "      <td>4.9</td>\n",
       "      <td>88.5</td>\n",
       "      <td>93.4</td>\n",
       "      <td>48227</td>\n",
       "      <td>2.0</td>\n",
       "      <td>201</td>\n",
       "      <td>Bethune Community</td>\n",
       "      <td>1.0</td>\n",
       "      <td>-83.187937</td>\n",
       "      <td>42.405480</td>\n",
       "      <td>811059</td>\n",
       "      <td>NaN</td>\n",
       "    </tr>\n",
       "    <tr>\n",
       "      <th>3</th>\n",
       "      <td>297413</td>\n",
       "      <td>202200100033</td>\n",
       "      <td>Keeler St &amp; Warwick St</td>\n",
       "      <td>PHONE</td>\n",
       "      <td>SHOTS FIRED IP</td>\n",
       "      <td>SHOTS IP</td>\n",
       "      <td>1</td>\n",
       "      <td>8PCT</td>\n",
       "      <td>342010</td>\n",
       "      <td>2022-01-01 05:10:53+00:00</td>\n",
       "      <td>0.8</td>\n",
       "      <td>4.3</td>\n",
       "      <td>3.5</td>\n",
       "      <td>137.8</td>\n",
       "      <td>12.6</td>\n",
       "      <td>150.4</td>\n",
       "      <td>48223</td>\n",
       "      <td>8.0</td>\n",
       "      <td>811</td>\n",
       "      <td>Rosedale Park</td>\n",
       "      <td>1.0</td>\n",
       "      <td>-83.228968</td>\n",
       "      <td>42.402660</td>\n",
       "      <td>811058</td>\n",
       "      <td>NaN</td>\n",
       "    </tr>\n",
       "    <tr>\n",
       "      <th>4</th>\n",
       "      <td>297412</td>\n",
       "      <td>202200100048</td>\n",
       "      <td>Ilene St &amp; Pickford St</td>\n",
       "      <td>W911</td>\n",
       "      <td>MISCELLANEOUS TRAFFIC</td>\n",
       "      <td>MISCTRAF</td>\n",
       "      <td>3</td>\n",
       "      <td>12PCT</td>\n",
       "      <td>817036</td>\n",
       "      <td>2022-01-01 05:14:42+00:00</td>\n",
       "      <td>1.5</td>\n",
       "      <td>211.1</td>\n",
       "      <td>2.2</td>\n",
       "      <td>4.3</td>\n",
       "      <td>215.4</td>\n",
       "      <td>219.7</td>\n",
       "      <td>48221</td>\n",
       "      <td>12.0</td>\n",
       "      <td>1207</td>\n",
       "      <td>Schulze</td>\n",
       "      <td>2.0</td>\n",
       "      <td>-83.162949</td>\n",
       "      <td>42.425949</td>\n",
       "      <td>811057</td>\n",
       "      <td>NaN</td>\n",
       "    </tr>\n",
       "  </tbody>\n",
       "</table>\n",
       "</div>"
      ],
      "text/plain": [
       "   Unnamed: 0   incident_id             incident_location call_source  \\\n",
       "0      297416  202200100010          King St & Oakland St       W911    \n",
       "1      297415  202200100021  Holcomb St & E Jefferson Ave       W911    \n",
       "2      297414  202200100030    Strathmoor St & Midland St       E911    \n",
       "3      297413  202200100033        Keeler St & Warwick St       PHONE   \n",
       "4      297412  202200100048        Ilene St & Pickford St       W911    \n",
       "\n",
       "            call_description  category priority call_group call_code  \\\n",
       "0  MALICIOUS DESTRUCTION I/P  MDPIP           3     3PCT      381030   \n",
       "1             SHOTS FIRED IP  SHOTS IP        1     7PCT      342010   \n",
       "2                DISTURBANCE  DISTURB         3     2PCT      825030   \n",
       "3             SHOTS FIRED IP  SHOTS IP        1     8PCT      342010   \n",
       "4      MISCELLANEOUS TRAFFIC  MISCTRAF        3     12PCT     817036   \n",
       "\n",
       "                   called_at  intake_time  dispatch_time  travel_time  \\\n",
       "0  2022-01-01 05:04:20+00:00          0.8           55.2          8.5   \n",
       "1  2022-01-01 05:06:56+00:00          0.7           28.3          8.7   \n",
       "2  2022-01-01 05:10:27+00:00          1.9           80.2          5.4   \n",
       "3  2022-01-01 05:10:53+00:00          0.8            4.3          3.5   \n",
       "4  2022-01-01 05:14:42+00:00          1.5          211.1          2.2   \n",
       "\n",
       "   on_scene_time  total_response_time  total_time  zip_code  precinct  \\\n",
       "0           75.8                 65.2       140.9     48211       3.0   \n",
       "1            5.3                 37.7        43.0     48214       7.0   \n",
       "2            4.9                 88.5        93.4     48227       2.0   \n",
       "3          137.8                 12.6       150.4     48223       8.0   \n",
       "4            4.3                215.4       219.7     48221      12.0   \n",
       "\n",
       "  scout_car_area  neighborhood_name  council_district  longitude   latitude  \\\n",
       "0           302           North End               5.0 -83.071164  42.383712   \n",
       "1           711          Gold Coast               5.0 -82.986218  42.357555   \n",
       "2           201   Bethune Community               1.0 -83.187937  42.405480   \n",
       "3           811       Rosedale Park               1.0 -83.228968  42.402660   \n",
       "4           1207            Schulze               2.0 -83.162949  42.425949   \n",
       "\n",
       "   ESRI_OID  incident_entry_id  \n",
       "0    811061                NaN  \n",
       "1    811060                NaN  \n",
       "2    811059                NaN  \n",
       "3    811058                NaN  \n",
       "4    811057                NaN  "
      ]
     },
     "execution_count": 4,
     "metadata": {},
     "output_type": "execute_result"
    }
   ],
   "source": [
    "combined_df.head()"
   ]
  },
  {
   "cell_type": "code",
   "execution_count": 5,
   "metadata": {},
   "outputs": [],
   "source": [
    "combined_df = combined_df.drop('incident_entry_id', axis=1)"
   ]
  },
  {
   "cell_type": "code",
   "execution_count": 6,
   "metadata": {},
   "outputs": [
    {
     "name": "stdout",
     "output_type": "stream",
     "text": [
      "<class 'pandas.core.frame.DataFrame'>\n",
      "RangeIndex: 941352 entries, 0 to 941351\n",
      "Data columns (total 24 columns):\n",
      " #   Column               Non-Null Count   Dtype  \n",
      "---  ------               --------------   -----  \n",
      " 0   Unnamed: 0           941352 non-null  int64  \n",
      " 1   incident_id          941352 non-null  int64  \n",
      " 2   incident_location    941352 non-null  object \n",
      " 3   call_source          941352 non-null  object \n",
      " 4   call_description     941352 non-null  object \n",
      " 5   category             941352 non-null  object \n",
      " 6   priority             941352 non-null  object \n",
      " 7   call_group           941352 non-null  object \n",
      " 8   call_code            941352 non-null  object \n",
      " 9   called_at            941352 non-null  object \n",
      " 10  intake_time          941352 non-null  float64\n",
      " 11  dispatch_time        941352 non-null  float64\n",
      " 12  travel_time          941351 non-null  float64\n",
      " 13  on_scene_time        941324 non-null  float64\n",
      " 14  total_response_time  941352 non-null  float64\n",
      " 15  total_time           941324 non-null  float64\n",
      " 16  zip_code             941352 non-null  int64  \n",
      " 17  precinct             940737 non-null  float64\n",
      " 18  scout_car_area       941352 non-null  object \n",
      " 19  neighborhood_name    941352 non-null  object \n",
      " 20  council_district     927927 non-null  float64\n",
      " 21  longitude            941352 non-null  float64\n",
      " 22  latitude             941352 non-null  float64\n",
      " 23  ESRI_OID             941352 non-null  int64  \n",
      "dtypes: float64(10), int64(4), object(10)\n",
      "memory usage: 172.4+ MB\n"
     ]
    }
   ],
   "source": [
    "combined_df.info()"
   ]
  },
  {
   "cell_type": "code",
   "execution_count": 7,
   "metadata": {},
   "outputs": [],
   "source": [
    "df_2024['called_at'] = pd.to_datetime(df_2024['called_at'])\n",
    "df_2023['called_at'] = pd.to_datetime(df_2023['called_at'])\n",
    "df_2022['called_at'] = pd.to_datetime(df_2022['called_at'])\n",
    "combined_df['called_at'] = pd.to_datetime(combined_df['called_at'])"
   ]
  },
  {
   "cell_type": "code",
   "execution_count": 8,
   "metadata": {},
   "outputs": [],
   "source": [
    "combined_df['year'] = combined_df['called_at'].dt.year\n",
    "combined_df['month'] = combined_df['called_at'].dt.month\n"
   ]
  },
  {
   "cell_type": "code",
   "execution_count": 9,
   "metadata": {},
   "outputs": [],
   "source": [
    "df_2024['month'] = df_2024['called_at'].dt.strftime(\"%b\")\n",
    "df_2023['month'] = df_2023['called_at'].dt.strftime(\"%b\")\n",
    "df_2022['month'] = df_2022['called_at'].dt.strftime(\"%b\")\n",
    "combined_df['month'] = combined_df['called_at'].dt.strftime(\"%b\")\n"
   ]
  },
  {
   "cell_type": "code",
   "execution_count": 10,
   "metadata": {},
   "outputs": [
    {
     "data": {
      "text/html": [
       "<div>\n",
       "<style scoped>\n",
       "    .dataframe tbody tr th:only-of-type {\n",
       "        vertical-align: middle;\n",
       "    }\n",
       "\n",
       "    .dataframe tbody tr th {\n",
       "        vertical-align: top;\n",
       "    }\n",
       "\n",
       "    .dataframe thead th {\n",
       "        text-align: right;\n",
       "    }\n",
       "</style>\n",
       "<table border=\"1\" class=\"dataframe\">\n",
       "  <thead>\n",
       "    <tr style=\"text-align: right;\">\n",
       "      <th></th>\n",
       "      <th>Unnamed: 0</th>\n",
       "      <th>incident_id</th>\n",
       "      <th>incident_location</th>\n",
       "      <th>call_source</th>\n",
       "      <th>call_description</th>\n",
       "      <th>category</th>\n",
       "      <th>priority</th>\n",
       "      <th>call_group</th>\n",
       "      <th>call_code</th>\n",
       "      <th>called_at</th>\n",
       "      <th>intake_time</th>\n",
       "      <th>dispatch_time</th>\n",
       "      <th>travel_time</th>\n",
       "      <th>on_scene_time</th>\n",
       "      <th>total_response_time</th>\n",
       "      <th>total_time</th>\n",
       "      <th>zip_code</th>\n",
       "      <th>precinct</th>\n",
       "      <th>scout_car_area</th>\n",
       "      <th>neighborhood_name</th>\n",
       "      <th>council_district</th>\n",
       "      <th>longitude</th>\n",
       "      <th>latitude</th>\n",
       "      <th>ESRI_OID</th>\n",
       "      <th>year</th>\n",
       "      <th>month</th>\n",
       "    </tr>\n",
       "  </thead>\n",
       "  <tbody>\n",
       "    <tr>\n",
       "      <th>0</th>\n",
       "      <td>297416</td>\n",
       "      <td>202200100010</td>\n",
       "      <td>King St &amp; Oakland St</td>\n",
       "      <td>W911</td>\n",
       "      <td>MALICIOUS DESTRUCTION I/P</td>\n",
       "      <td>MDPIP</td>\n",
       "      <td>3</td>\n",
       "      <td>3PCT</td>\n",
       "      <td>381030</td>\n",
       "      <td>2022-01-01 05:04:20+00:00</td>\n",
       "      <td>0.8</td>\n",
       "      <td>55.2</td>\n",
       "      <td>8.5</td>\n",
       "      <td>75.8</td>\n",
       "      <td>65.2</td>\n",
       "      <td>140.9</td>\n",
       "      <td>48211</td>\n",
       "      <td>3.0</td>\n",
       "      <td>302</td>\n",
       "      <td>North End</td>\n",
       "      <td>5.0</td>\n",
       "      <td>-83.071164</td>\n",
       "      <td>42.383712</td>\n",
       "      <td>811061</td>\n",
       "      <td>2022</td>\n",
       "      <td>Jan</td>\n",
       "    </tr>\n",
       "    <tr>\n",
       "      <th>1</th>\n",
       "      <td>297415</td>\n",
       "      <td>202200100021</td>\n",
       "      <td>Holcomb St &amp; E Jefferson Ave</td>\n",
       "      <td>W911</td>\n",
       "      <td>SHOTS FIRED IP</td>\n",
       "      <td>SHOTS IP</td>\n",
       "      <td>1</td>\n",
       "      <td>7PCT</td>\n",
       "      <td>342010</td>\n",
       "      <td>2022-01-01 05:06:56+00:00</td>\n",
       "      <td>0.7</td>\n",
       "      <td>28.3</td>\n",
       "      <td>8.7</td>\n",
       "      <td>5.3</td>\n",
       "      <td>37.7</td>\n",
       "      <td>43.0</td>\n",
       "      <td>48214</td>\n",
       "      <td>7.0</td>\n",
       "      <td>711</td>\n",
       "      <td>Gold Coast</td>\n",
       "      <td>5.0</td>\n",
       "      <td>-82.986218</td>\n",
       "      <td>42.357555</td>\n",
       "      <td>811060</td>\n",
       "      <td>2022</td>\n",
       "      <td>Jan</td>\n",
       "    </tr>\n",
       "    <tr>\n",
       "      <th>2</th>\n",
       "      <td>297414</td>\n",
       "      <td>202200100030</td>\n",
       "      <td>Strathmoor St &amp; Midland St</td>\n",
       "      <td>E911</td>\n",
       "      <td>DISTURBANCE</td>\n",
       "      <td>DISTURB</td>\n",
       "      <td>3</td>\n",
       "      <td>2PCT</td>\n",
       "      <td>825030</td>\n",
       "      <td>2022-01-01 05:10:27+00:00</td>\n",
       "      <td>1.9</td>\n",
       "      <td>80.2</td>\n",
       "      <td>5.4</td>\n",
       "      <td>4.9</td>\n",
       "      <td>88.5</td>\n",
       "      <td>93.4</td>\n",
       "      <td>48227</td>\n",
       "      <td>2.0</td>\n",
       "      <td>201</td>\n",
       "      <td>Bethune Community</td>\n",
       "      <td>1.0</td>\n",
       "      <td>-83.187937</td>\n",
       "      <td>42.405480</td>\n",
       "      <td>811059</td>\n",
       "      <td>2022</td>\n",
       "      <td>Jan</td>\n",
       "    </tr>\n",
       "    <tr>\n",
       "      <th>3</th>\n",
       "      <td>297413</td>\n",
       "      <td>202200100033</td>\n",
       "      <td>Keeler St &amp; Warwick St</td>\n",
       "      <td>PHONE</td>\n",
       "      <td>SHOTS FIRED IP</td>\n",
       "      <td>SHOTS IP</td>\n",
       "      <td>1</td>\n",
       "      <td>8PCT</td>\n",
       "      <td>342010</td>\n",
       "      <td>2022-01-01 05:10:53+00:00</td>\n",
       "      <td>0.8</td>\n",
       "      <td>4.3</td>\n",
       "      <td>3.5</td>\n",
       "      <td>137.8</td>\n",
       "      <td>12.6</td>\n",
       "      <td>150.4</td>\n",
       "      <td>48223</td>\n",
       "      <td>8.0</td>\n",
       "      <td>811</td>\n",
       "      <td>Rosedale Park</td>\n",
       "      <td>1.0</td>\n",
       "      <td>-83.228968</td>\n",
       "      <td>42.402660</td>\n",
       "      <td>811058</td>\n",
       "      <td>2022</td>\n",
       "      <td>Jan</td>\n",
       "    </tr>\n",
       "    <tr>\n",
       "      <th>4</th>\n",
       "      <td>297412</td>\n",
       "      <td>202200100048</td>\n",
       "      <td>Ilene St &amp; Pickford St</td>\n",
       "      <td>W911</td>\n",
       "      <td>MISCELLANEOUS TRAFFIC</td>\n",
       "      <td>MISCTRAF</td>\n",
       "      <td>3</td>\n",
       "      <td>12PCT</td>\n",
       "      <td>817036</td>\n",
       "      <td>2022-01-01 05:14:42+00:00</td>\n",
       "      <td>1.5</td>\n",
       "      <td>211.1</td>\n",
       "      <td>2.2</td>\n",
       "      <td>4.3</td>\n",
       "      <td>215.4</td>\n",
       "      <td>219.7</td>\n",
       "      <td>48221</td>\n",
       "      <td>12.0</td>\n",
       "      <td>1207</td>\n",
       "      <td>Schulze</td>\n",
       "      <td>2.0</td>\n",
       "      <td>-83.162949</td>\n",
       "      <td>42.425949</td>\n",
       "      <td>811057</td>\n",
       "      <td>2022</td>\n",
       "      <td>Jan</td>\n",
       "    </tr>\n",
       "  </tbody>\n",
       "</table>\n",
       "</div>"
      ],
      "text/plain": [
       "   Unnamed: 0   incident_id             incident_location call_source  \\\n",
       "0      297416  202200100010          King St & Oakland St       W911    \n",
       "1      297415  202200100021  Holcomb St & E Jefferson Ave       W911    \n",
       "2      297414  202200100030    Strathmoor St & Midland St       E911    \n",
       "3      297413  202200100033        Keeler St & Warwick St       PHONE   \n",
       "4      297412  202200100048        Ilene St & Pickford St       W911    \n",
       "\n",
       "            call_description  category priority call_group call_code  \\\n",
       "0  MALICIOUS DESTRUCTION I/P  MDPIP           3     3PCT      381030   \n",
       "1             SHOTS FIRED IP  SHOTS IP        1     7PCT      342010   \n",
       "2                DISTURBANCE  DISTURB         3     2PCT      825030   \n",
       "3             SHOTS FIRED IP  SHOTS IP        1     8PCT      342010   \n",
       "4      MISCELLANEOUS TRAFFIC  MISCTRAF        3     12PCT     817036   \n",
       "\n",
       "                  called_at  intake_time  dispatch_time  travel_time  \\\n",
       "0 2022-01-01 05:04:20+00:00          0.8           55.2          8.5   \n",
       "1 2022-01-01 05:06:56+00:00          0.7           28.3          8.7   \n",
       "2 2022-01-01 05:10:27+00:00          1.9           80.2          5.4   \n",
       "3 2022-01-01 05:10:53+00:00          0.8            4.3          3.5   \n",
       "4 2022-01-01 05:14:42+00:00          1.5          211.1          2.2   \n",
       "\n",
       "   on_scene_time  total_response_time  total_time  zip_code  precinct  \\\n",
       "0           75.8                 65.2       140.9     48211       3.0   \n",
       "1            5.3                 37.7        43.0     48214       7.0   \n",
       "2            4.9                 88.5        93.4     48227       2.0   \n",
       "3          137.8                 12.6       150.4     48223       8.0   \n",
       "4            4.3                215.4       219.7     48221      12.0   \n",
       "\n",
       "  scout_car_area  neighborhood_name  council_district  longitude   latitude  \\\n",
       "0           302           North End               5.0 -83.071164  42.383712   \n",
       "1           711          Gold Coast               5.0 -82.986218  42.357555   \n",
       "2           201   Bethune Community               1.0 -83.187937  42.405480   \n",
       "3           811       Rosedale Park               1.0 -83.228968  42.402660   \n",
       "4           1207            Schulze               2.0 -83.162949  42.425949   \n",
       "\n",
       "   ESRI_OID  year month  \n",
       "0    811061  2022   Jan  \n",
       "1    811060  2022   Jan  \n",
       "2    811059  2022   Jan  \n",
       "3    811058  2022   Jan  \n",
       "4    811057  2022   Jan  "
      ]
     },
     "execution_count": 10,
     "metadata": {},
     "output_type": "execute_result"
    }
   ],
   "source": [
    "combined_df.head()"
   ]
  },
  {
   "cell_type": "code",
   "execution_count": 71,
   "metadata": {},
   "outputs": [
    {
     "data": {
      "image/png": "[encoded data removed]",
      "text/plain": [
       "<Figure size 600x100 with 1 Axes>"
      ]
     },
     "metadata": {},
     "output_type": "display_data"
    }
   ],
   "source": [
    "#### Call volume\n",
    "sns.palplot(['#18252A','#004445', '#279989', '#9FD5B3','#F2F2F2','#feb70d'])\n",
    "\n",
    "plt.title(\"Detroit brand palette \",loc='left',fontfamily='sans-serif',fontsize=15,y=1.2)\n",
    "plt.show()"
   ]
  },
  {
   "cell_type": "markdown",
   "metadata": {},
   "source": [
    " A line chart or area chart showing the number of incidents over time (e.g., by day, week, month)."
   ]
  },
  {
   "cell_type": "code",
   "execution_count": 12,
   "metadata": {},
   "outputs": [],
   "source": [
    "\n",
    "x_a= df_2024['month'].unique()\n",
    "\n"
   ]
  },
  {
   "cell_type": "code",
   "execution_count": null,
   "metadata": {},
   "outputs": [
    {
     "data": {
      "text/plain": [
       "[<matplotlib.collections.FillBetweenPolyCollection at 0x26903b21090>,\n",
       " <matplotlib.collections.FillBetweenPolyCollection at 0x26903b211d0>,\n",
       " <matplotlib.collections.FillBetweenPolyCollection at 0x26903b21310>]"
      ]
     },
     "execution_count": 45,
     "metadata": {},
     "output_type": "execute_result"
    },
    {
     "data": {
      "image/png": "[encoded data removed]",
      "text/plain": [
       "<Figure size 640x480 with 1 Axes>"
      ]
     },
     "metadata": {},
     "output_type": "display_data"
    }
   ],
   "source": [
    "sns.set_theme(style = 'darkgrid')\n",
    "fig, ax = plt.subplots()\n",
    "\n",
    "calls_2024= df_2024.groupby('month')['incident_id'].count()\n",
    "calls_2022 = df_2022.groupby('month')['incident_id'].count()\n",
    "calls_2023 = df_2023.groupby('month')['incident_id'].count()\n",
    "\n",
    "#ax.plot(x,y)\n",
    "ax.stackplot(x_a,\n",
    "             calls_2024,calls_2023,calls_2022,\n",
    "             colors=['#18252A','#279989', '#9FD5B3']\n",
    "             )\n",
    "\n"
   ]
  },
  {
   "cell_type": "code",
   "execution_count": 57,
   "metadata": {},
   "outputs": [],
   "source": [
    "\n",
    "df_merge_three = [calls_2024, calls_2023, calls_2022]\n",
    "\n",
    "import functools as ft\n",
    "df_final = ft.reduce(lambda left, right: pd.merge(left, right, on='month',how='left'), df_merge_three)\n"
   ]
  },
  {
   "cell_type": "code",
   "execution_count": 66,
   "metadata": {},
   "outputs": [
    {
     "data": {
      "text/plain": [
       "np.float64(24764.5)"
      ]
     },
     "execution_count": 66,
     "metadata": {},
     "output_type": "execute_result"
    }
   ],
   "source": [
    "df_final['incident_id'].mean()"
   ]
  },
  {
   "cell_type": "code",
   "execution_count": 67,
   "metadata": {},
   "outputs": [],
   "source": [
    "average = (df_final['incident_id_x'].mean() + df_final['incident_id_y'].mean()+ df_final['incident_id'].mean())/3"
   ]
  },
  {
   "cell_type": "code",
   "execution_count": 69,
   "metadata": {},
   "outputs": [
    {
     "data": {
      "text/plain": [
       "np.float64(26148.666666666668)"
      ]
     },
     "execution_count": 69,
     "metadata": {},
     "output_type": "execute_result"
    }
   ],
   "source": [
    "average"
   ]
  },
  {
   "cell_type": "code",
   "execution_count": 94,
   "metadata": {},
   "outputs": [
    {
     "data": {
      "application/vnd.plotly.v1+json": {
       "config": {
        "plotlyServerURL": "https://plot.ly"
       },
       "data": [
        {
         "marker": {
          "color": "rgba(159, 213, 179, 1)"
         },
         "name": "2022",
         "type": "bar",
         "x": [
          "Jan",
          "Feb",
          "Mar",
          "Apr",
          "May",
          "Jun",
          "Jul",
          "Aug",
          "Sep",
          "Oct",
          "Nov",
          "Dec"
         ],
         "y": [
          23683,
          27023,
          24285,
          18908,
          20270,
          27326,
          27165,
          23037,
          27606,
          25039,
          26547,
          26285
         ]
        },
        {
         "marker": {
          "color": "rgba(39, 153, 137, 1)"
         },
         "name": "2023",
         "type": "bar",
         "x": [
          "Jan",
          "Feb",
          "Mar",
          "Apr",
          "May",
          "Jun",
          "Jul",
          "Aug",
          "Sep",
          "Oct",
          "Nov",
          "Dec"
         ],
         "y": [
          26003,
          29300,
          25676,
          22373,
          24263,
          30000,
          28491,
          25013,
          28807,
          24286,
          27533,
          27806
         ]
        },
        {
         "marker": {
          "color": "rgba(24, 37, 42, 1)"
         },
         "name": "2024",
         "type": "bar",
         "x": [
          "Jan",
          "Feb",
          "Mar",
          "Apr",
          "May",
          "Jun",
          "Jul",
          "Aug",
          "Sep",
          "Oct",
          "Nov",
          "Dec"
         ],
         "y": [
          25891,
          29704,
          24659,
          23101,
          22926,
          31072,
          29369,
          24998,
          30270,
          25426,
          28139,
          29072
         ]
        }
       ],
       "layout": {
        "shapes": [
         {
          "label": {
           "font": {
            "color": "black",
            "size": 10
           },
           "text": "26148",
           "textposition": "start",
           "yanchor": "top"
          },
          "legendrank": 1,
          "line": {
           "color": "rgba(254, 183, 13, 1)",
           "dash": "5px"
          },
          "name": "Average",
          "showlegend": true,
          "type": "line",
          "x0": 0,
          "x1": 1,
          "xref": "paper",
          "y0": 26148.666666666668,
          "y1": 26148.666666666668
         }
        ],
        "template": {
         "data": {
          "bar": [
           {
            "error_x": {
             "color": "#2a3f5f"
            },
            "error_y": {
             "color": "#2a3f5f"
            },
            "marker": {
             "line": {
              "color": "#E5ECF6",
              "width": 0.5
             },
             "pattern": {
              "fillmode": "overlay",
              "size": 10,
              "solidity": 0.2
             }
            },
            "type": "bar"
           }
          ],
          "barpolar": [
           {
            "marker": {
             "line": {
              "color": "#E5ECF6",
              "width": 0.5
             },
             "pattern": {
              "fillmode": "overlay",
              "size": 10,
              "solidity": 0.2
             }
            },
            "type": "barpolar"
           }
          ],
          "carpet": [
           {
            "aaxis": {
             "endlinecolor": "#2a3f5f",
             "gridcolor": "white",
             "linecolor": "white",
             "minorgridcolor": "white",
             "startlinecolor": "#2a3f5f"
            },
            "baxis": {
             "endlinecolor": "#2a3f5f",
             "gridcolor": "white",
             "linecolor": "white",
             "minorgridcolor": "white",
             "startlinecolor": "#2a3f5f"
            },
            "type": "carpet"
           }
          ],
          "choropleth": [
           {
            "colorbar": {
             "outlinewidth": 0,
             "ticks": ""
            },
            "type": "choropleth"
           }
          ],
          "contour": [
           {
            "colorbar": {
             "outlinewidth": 0,
             "ticks": ""
            },
            "colorscale": [
             [
              0,
              "#0d0887"
             ],
             [
              0.1111111111111111,
              "#46039f"
             ],
             [
              0.2222222222222222,
              "#7201a8"
             ],
             [
              0.3333333333333333,
              "#9c179e"
             ],
             [
              0.4444444444444444,
              "#bd3786"
             ],
             [
              0.5555555555555556,
              "#d8576b"
             ],
             [
              0.6666666666666666,
              "#ed7953"
             ],
             [
              0.7777777777777778,
              "#fb9f3a"
             ],
             [
              0.8888888888888888,
              "#fdca26"
             ],
             [
              1,
              "#f0f921"
             ]
            ],
            "type": "contour"
           }
          ],
          "contourcarpet": [
           {
            "colorbar": {
             "outlinewidth": 0,
             "ticks": ""
            },
            "type": "contourcarpet"
           }
          ],
          "heatmap": [
           {
            "colorbar": {
             "outlinewidth": 0,
             "ticks": ""
            },
            "colorscale": [
             [
              0,
              "#0d0887"
             ],
             [
              0.1111111111111111,
              "#46039f"
             ],
             [
              0.2222222222222222,
              "#7201a8"
             ],
             [
              0.3333333333333333,
              "#9c179e"
             ],
             [
              0.4444444444444444,
              "#bd3786"
             ],
             [
              0.5555555555555556,
              "#d8576b"
             ],
             [
              0.6666666666666666,
              "#ed7953"
             ],
             [
              0.7777777777777778,
              "#fb9f3a"
             ],
             [
              0.8888888888888888,
              "#fdca26"
             ],
             [
              1,
              "#f0f921"
             ]
            ],
            "type": "heatmap"
           }
          ],
          "heatmapgl": [
           {
            "colorbar": {
             "outlinewidth": 0,
             "ticks": ""
            },
            "colorscale": [
             [
              0,
              "#0d0887"
             ],
             [
              0.1111111111111111,
              "#46039f"
             ],
             [
              0.2222222222222222,
              "#7201a8"
             ],
             [
              0.3333333333333333,
              "#9c179e"
             ],
             [
              0.4444444444444444,
              "#bd3786"
             ],
             [
              0.5555555555555556,
              "#d8576b"
             ],
             [
              0.6666666666666666,
              "#ed7953"
             ],
             [
              0.7777777777777778,
              "#fb9f3a"
             ],
             [
              0.8888888888888888,
              "#fdca26"
             ],
             [
              1,
              "#f0f921"
             ]
            ],
            "type": "heatmapgl"
           }
          ],
          "histogram": [
           {
            "marker": {
             "pattern": {
              "fillmode": "overlay",
              "size": 10,
              "solidity": 0.2
             }
            },
            "type": "histogram"
           }
          ],
          "histogram2d": [
           {
            "colorbar": {
             "outlinewidth": 0,
             "ticks": ""
            },
            "colorscale": [
             [
              0,
              "#0d0887"
             ],
             [
              0.1111111111111111,
              "#46039f"
             ],
             [
              0.2222222222222222,
              "#7201a8"
             ],
             [
              0.3333333333333333,
              "#9c179e"
             ],
             [
              0.4444444444444444,
              "#bd3786"
             ],
             [
              0.5555555555555556,
              "#d8576b"
             ],
             [
              0.6666666666666666,
              "#ed7953"
             ],
             [
              0.7777777777777778,
              "#fb9f3a"
             ],
             [
              0.8888888888888888,
              "#fdca26"
             ],
             [
              1,
              "#f0f921"
             ]
            ],
            "type": "histogram2d"
           }
          ],
          "histogram2dcontour": [
           {
            "colorbar": {
             "outlinewidth": 0,
             "ticks": ""
            },
            "colorscale": [
             [
              0,
              "#0d0887"
             ],
             [
              0.1111111111111111,
              "#46039f"
             ],
             [
              0.2222222222222222,
              "#7201a8"
             ],
             [
              0.3333333333333333,
              "#9c179e"
             ],
             [
              0.4444444444444444,
              "#bd3786"
             ],
             [
              0.5555555555555556,
              "#d8576b"
             ],
             [
              0.6666666666666666,
              "#ed7953"
             ],
             [
              0.7777777777777778,
              "#fb9f3a"
             ],
             [
              0.8888888888888888,
              "#fdca26"
             ],
             [
              1,
              "#f0f921"
             ]
            ],
            "type": "histogram2dcontour"
           }
          ],
          "mesh3d": [
           {
            "colorbar": {
             "outlinewidth": 0,
             "ticks": ""
            },
            "type": "mesh3d"
           }
          ],
          "parcoords": [
           {
            "line": {
             "colorbar": {
              "outlinewidth": 0,
              "ticks": ""
             }
            },
            "type": "parcoords"
           }
          ],
          "pie": [
           {
            "automargin": true,
            "type": "pie"
           }
          ],
          "scatter": [
           {
            "fillpattern": {
             "fillmode": "overlay",
             "size": 10,
             "solidity": 0.2
            },
            "type": "scatter"
           }
          ],
          "scatter3d": [
           {
            "line": {
             "colorbar": {
              "outlinewidth": 0,
              "ticks": ""
             }
            },
            "marker": {
             "colorbar": {
              "outlinewidth": 0,
              "ticks": ""
             }
            },
            "type": "scatter3d"
           }
          ],
          "scattercarpet": [
           {
            "marker": {
             "colorbar": {
              "outlinewidth": 0,
              "ticks": ""
             }
            },
            "type": "scattercarpet"
           }
          ],
          "scattergeo": [
           {
            "marker": {
             "colorbar": {
              "outlinewidth": 0,
              "ticks": ""
             }
            },
            "type": "scattergeo"
           }
          ],
          "scattergl": [
           {
            "marker": {
             "colorbar": {
              "outlinewidth": 0,
              "ticks": ""
             }
            },
            "type": "scattergl"
           }
          ],
          "scattermapbox": [
           {
            "marker": {
             "colorbar": {
              "outlinewidth": 0,
              "ticks": ""
             }
            },
            "type": "scattermapbox"
           }
          ],
          "scatterpolar": [
           {
            "marker": {
             "colorbar": {
              "outlinewidth": 0,
              "ticks": ""
             }
            },
            "type": "scatterpolar"
           }
          ],
          "scatterpolargl": [
           {
            "marker": {
             "colorbar": {
              "outlinewidth": 0,
              "ticks": ""
             }
            },
            "type": "scatterpolargl"
           }
          ],
          "scatterternary": [
           {
            "marker": {
             "colorbar": {
              "outlinewidth": 0,
              "ticks": ""
             }
            },
            "type": "scatterternary"
           }
          ],
          "surface": [
           {
            "colorbar": {
             "outlinewidth": 0,
             "ticks": ""
            },
            "colorscale": [
             [
              0,
              "#0d0887"
             ],
             [
              0.1111111111111111,
              "#46039f"
             ],
             [
              0.2222222222222222,
              "#7201a8"
             ],
             [
              0.3333333333333333,
              "#9c179e"
             ],
             [
              0.4444444444444444,
              "#bd3786"
             ],
             [
              0.5555555555555556,
              "#d8576b"
             ],
             [
              0.6666666666666666,
              "#ed7953"
             ],
             [
              0.7777777777777778,
              "#fb9f3a"
             ],
             [
              0.8888888888888888,
              "#fdca26"
             ],
             [
              1,
              "#f0f921"
             ]
            ],
            "type": "surface"
           }
          ],
          "table": [
           {
            "cells": {
             "fill": {
              "color": "#EBF0F8"
             },
             "line": {
              "color": "white"
             }
            },
            "header": {
             "fill": {
              "color": "#C8D4E3"
             },
             "line": {
              "color": "white"
             }
            },
            "type": "table"
           }
          ]
         },
         "layout": {
          "annotationdefaults": {
           "arrowcolor": "#2a3f5f",
           "arrowhead": 0,
           "arrowwidth": 1
          },
          "autotypenumbers": "strict",
          "coloraxis": {
           "colorbar": {
            "outlinewidth": 0,
            "ticks": ""
           }
          },
          "colorscale": {
           "diverging": [
            [
             0,
             "#8e0152"
            ],
            [
             0.1,
             "#c51b7d"
            ],
            [
             0.2,
             "#de77ae"
            ],
            [
             0.3,
             "#f1b6da"
            ],
            [
             0.4,
             "#fde0ef"
            ],
            [
             0.5,
             "#f7f7f7"
            ],
            [
             0.6,
             "#e6f5d0"
            ],
            [
             0.7,
             "#b8e186"
            ],
            [
             0.8,
             "#7fbc41"
            ],
            [
             0.9,
             "#4d9221"
            ],
            [
             1,
             "#276419"
            ]
           ],
           "sequential": [
            [
             0,
             "#0d0887"
            ],
            [
             0.1111111111111111,
             "#46039f"
            ],
            [
             0.2222222222222222,
             "#7201a8"
            ],
            [
             0.3333333333333333,
             "#9c179e"
            ],
            [
             0.4444444444444444,
             "#bd3786"
            ],
            [
             0.5555555555555556,
             "#d8576b"
            ],
            [
             0.6666666666666666,
             "#ed7953"
            ],
            [
             0.7777777777777778,
             "#fb9f3a"
            ],
            [
             0.8888888888888888,
             "#fdca26"
            ],
            [
             1,
             "#f0f921"
            ]
           ],
           "sequentialminus": [
            [
             0,
             "#0d0887"
            ],
            [
             0.1111111111111111,
             "#46039f"
            ],
            [
             0.2222222222222222,
             "#7201a8"
            ],
            [
             0.3333333333333333,
             "#9c179e"
            ],
            [
             0.4444444444444444,
             "#bd3786"
            ],
            [
             0.5555555555555556,
             "#d8576b"
            ],
            [
             0.6666666666666666,
             "#ed7953"
            ],
            [
             0.7777777777777778,
             "#fb9f3a"
            ],
            [
             0.8888888888888888,
             "#fdca26"
            ],
            [
             1,
             "#f0f921"
            ]
           ]
          },
          "colorway": [
           "#636efa",
           "#EF553B",
           "#00cc96",
           "#ab63fa",
           "#FFA15A",
           "#19d3f3",
           "#FF6692",
           "#B6E880",
           "#FF97FF",
           "#FECB52"
          ],
          "font": {
           "color": "#2a3f5f"
          },
          "geo": {
           "bgcolor": "white",
           "lakecolor": "white",
           "landcolor": "#E5ECF6",
           "showlakes": true,
           "showland": true,
           "subunitcolor": "white"
          },
          "hoverlabel": {
           "align": "left"
          },
          "hovermode": "closest",
          "mapbox": {
           "style": "light"
          },
          "paper_bgcolor": "white",
          "plot_bgcolor": "#E5ECF6",
          "polar": {
           "angularaxis": {
            "gridcolor": "white",
            "linecolor": "white",
            "ticks": ""
           },
           "bgcolor": "#E5ECF6",
           "radialaxis": {
            "gridcolor": "white",
            "linecolor": "white",
            "ticks": ""
           }
          },
          "scene": {
           "xaxis": {
            "backgroundcolor": "#E5ECF6",
            "gridcolor": "white",
            "gridwidth": 2,
            "linecolor": "white",
            "showbackground": true,
            "ticks": "",
            "zerolinecolor": "white"
           },
           "yaxis": {
            "backgroundcolor": "#E5ECF6",
            "gridcolor": "white",
            "gridwidth": 2,
            "linecolor": "white",
            "showbackground": true,
            "ticks": "",
            "zerolinecolor": "white"
           },
           "zaxis": {
            "backgroundcolor": "#E5ECF6",
            "gridcolor": "white",
            "gridwidth": 2,
            "linecolor": "white",
            "showbackground": true,
            "ticks": "",
            "zerolinecolor": "white"
           }
          },
          "shapedefaults": {
           "line": {
            "color": "#2a3f5f"
           }
          },
          "ternary": {
           "aaxis": {
            "gridcolor": "white",
            "linecolor": "white",
            "ticks": ""
           },
           "baxis": {
            "gridcolor": "white",
            "linecolor": "white",
            "ticks": ""
           },
           "bgcolor": "#E5ECF6",
           "caxis": {
            "gridcolor": "white",
            "linecolor": "white",
            "ticks": ""
           }
          },
          "title": {
           "x": 0.05
          },
          "xaxis": {
           "automargin": true,
           "gridcolor": "white",
           "linecolor": "white",
           "ticks": "",
           "title": {
            "standoff": 15
           },
           "zerolinecolor": "white",
           "zerolinewidth": 2
          },
          "yaxis": {
           "automargin": true,
           "gridcolor": "white",
           "linecolor": "white",
           "ticks": "",
           "title": {
            "standoff": 15
           },
           "zerolinecolor": "white",
           "zerolinewidth": 2
          }
         }
        },
        "title": {
         "font": {
          "color": "black",
          "size": 20
         },
         "text": "Call Volume Per Month"
        },
        "xaxis": {
         "title": {
          "text": "Month"
         }
        },
        "yaxis": {
         "title": {
          "text": "Number of calls"
         }
        }
       }
      }
     },
     "metadata": {},
     "output_type": "display_data"
    }
   ],
   "source": [
    "\n",
    "colors = {'2022':'rgba(159, 213, 179, 1)','2023':'rgba(39, 153, 137, 1)','2024':'rgba(24, 37, 42, 1)','Average':'rgba(254, 183, 13, 1)'}\n",
    "fig = go.Figure()\n",
    "fig.add_trace(go.Bar(name=\"2022\", x=x_a, y=calls_2022,marker_color=colors['2022']))\n",
    "fig.add_trace(go.Bar(name=\"2023\", x=x_a, y=calls_2023,marker_color=colors['2023']))\n",
    "fig.add_trace(go.Bar(name=\"2024\", x=x_a, y=calls_2024,marker_color=colors['2024']))\n",
    "fig.update_layout(\n",
    "    title = dict(text = \"Call Volume Per Month\",\n",
    "                 font=dict(size=20, color=\"black\")),\n",
    "    xaxis_title=\"Month\",\n",
    "    yaxis_title=\"Number of calls\", \n",
    ")\n",
    "fig.add_shape(\n",
    "    legendrank=1,\n",
    "    name=\"Average\",\n",
    "    showlegend=True,\n",
    "    type=\"line\",\n",
    "    xref=\"paper\",\n",
    "    line=dict(dash=\"5px\",color=colors['Average']),\n",
    "    label=dict(\n",
    "        text=\"26148\",\n",
    "        textposition=\"start\",\n",
    "        font=dict(size=10, color=\"black\"),\n",
    "        yanchor=\"top\"),\n",
    "    x0=0.00,\n",
    "    x1=1.0,\n",
    "    y0=average,\n",
    "    y1=average\n",
    ")\n",
    "fig.show()"
   ]
  },
  {
   "cell_type": "code",
   "execution_count": null,
   "metadata": {},
   "outputs": [],
   "source": []
  }
 ],
 "metadata": {
  "kernelspec": {
   "display_name": ".venv_portfolio",
   "language": "python",
   "name": "python3"
  },
  "language_info": {
   "codemirror_mode": {
    "name": "ipython",
    "version": 3
   },
   "file_extension": ".py",
   "mimetype": "text/x-python",
   "name": "python",
   "nbconvert_exporter": "python",
   "pygments_lexer": "ipython3",
   "version": "3.13.0"
  }
 },
 "nbformat": 4,
 "nbformat_minor": 2
}
